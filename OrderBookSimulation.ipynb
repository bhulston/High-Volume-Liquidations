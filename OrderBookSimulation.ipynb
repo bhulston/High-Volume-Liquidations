<h2>Extra Credit (10 points)</h2>
<br>
<font size="+1">
    <ul>
        <li>This is intentionally vague and open-ended and will be judged by the level of effort, extension of the previous problems, and correctness.</li>
        <br>
        <li>Reflect on the previous exercises that you have completed:</li>
        <br>
        <ul>
            <li>How would you make this problem more realistic?</li>
            <br>
            <li>How would you <i>scale-up</i> this simulation in a more realistic environment?</li>
            <br>
            <li>What areas of business might it be useful for, especially regarding the designing of products or services?</li>
            <br>
            <li>How might this simple setting change if you included other, more complex or exotic, order types such as hidden orders or iceberg orders?</li>
            <br>
            <li>What if there were different policy matching mechanisms other than price-time priority, such as pro-rata rationing or auction mechanisms?</li>
            <br>
            <li>How would you make more realistic time constraints on orders?</li>
            <br>
        </ul>
        <li>Describe something you would change from the above problems that would make the simulation more realistic (take this as a chance to be creative), and then implement your idea.</li>
        <br>
        <li>Can you make the simulation from questions 3, 4, and 5 dynamic? That is, instead of a single update to the limit order book, could you allow your order book to change over multiple periods? If so, implement it.</li>
        <br>
    </ul>
</font>

What I did in this extra credit:


*   I rewrote the methods to run together in a way that allows a collection of order queues at different prices
*   Market orders will take from the min or max of the asks or bids
*   I changed the initialize_limit_order_book method to create an order book of prices and quantities based on a normal distribution
*   i changed the update limit order method to also take in a price parameter to know which price in the nested dictionary to update
*   The simulation can be run with different variables to create deeper or more dispersed order books as well. The simulation also simulates a number of new orders coming in, and reports how liquidity changed from them



#in this version of the method I just wanted to simulate some other queues at different prices.
#I used a medium article to find the general distributions of limit order books -> https://medium.com/coinmonks/liquidity-and-order-book-distribution-908e4ebd9173
#seems similar to a normal distribution so I decided to use that
rng = np.random.default_rng(seed=99)

def initialize_limit_order_book(mid_price, std, num_simulation):
  prices = rng.normal(mid_price, std, num_simulation)
  #This function returns a nested dictionary containing both sell and buy limit orders
  #Each limit order type contains another dictionary of keys = bid/ask price and values = [a list of quantities of orders at price]  
  #for simplicity we remove the values from mid_price, after rounding everything to the nearest integer
  prices = [round(price, 0) for price in list(prices)]

  prices = [price for price in prices if price != mid_price]

  dict_count_of_prices = {}
  order_dict = {}

  for price in prices:
    #get the quantity of orders at each price that was generated
      if price in dict_count_of_prices:
          dict_count_of_prices[price] += 1
      else:
          dict_count_of_prices[price] = 1

  for price, tot_quantity in dict_count_of_prices.items():
    #This for loop basically creates a queue based on the total quantity, once the threshold is passed, the queue is complete
    queue_bool = [False]
    queue = []
    sim_quantity = rng.integers(1, 30)
    queue.append(sim_quantity)
    queue_cumsum = np.array(queue).cumsum()
    while queue_cumsum[-1] < tot_quantity:
      sim_quantity = rng.integers(1, 30)
      queue.append(sim_quantity)
      queue_cumsum = np.array(queue).cumsum()      
        #this will deviate from the total quantities determined, I think it probably adds some deviation or randomness we are likely to see in a real order book
          #this deviates because if the integer randomly chosen makes the cumulative sum over the original quantity, the whole value is still included
    
    order_dict[price] = np.array(queue)
  
  limit_order_book = {}
  limit_order_book['sells'] = {}
  limit_order_book['buys'] = {}

  for price in order_dict:
    #For the chosen price, determine whether or not it would be a buy or sell based on the relative position to the mid_price
    if price < mid_price:
      limit_order_book['buys'][price] = order_dict[price]
    else:
      limit_order_book['sells'][price] = order_dict[price]

  return limit_order_book


def order_flow(limit_order_book):
  #This function takes a limit order book and simulates an order based on the current state of liquidity
  #I kept this the same from the original question
  segments = ['Market', 'Limit']
  
  ask_liquidity, bid_liquidity = calc_liquidity(limit_order_book)
    #collect tuple into two variables
  if bid_liquidity < ask_liquidity:
    #scenario here either leads to a Market-Bid or Limit-Ask
    prob = ask_liquidity / (ask_liquidity + bid_liquidity)

    order_type1 = rng.choice(segments, p = [prob, 1 - prob])

    if order_type1 == 'Market':
      order_type2 = 'Bid'
    else:
      #else order_type1 == 'Limit'
      order_type2 = 'Ask'
  
  elif bid_liquidity>ask_liquidity:
    prob = bid_liquidity / (ask_liquidity + bid_liquidity)
    order_type1 = rng.choice(segments, p = [prob, 1-prob])

    if order_type1 == 'Market':
      order_type2 = 'Ask'
    else:
      order_type2 = 'Bid'
  
  else:
    prob = .50
      #even chance when liquidity pool is equal
    order_type1 = rng.choice(segments, p= [prob, prob])
    order_type2 = rng.choice(['Bid', 'Ask'], p= [prob, prob])

  quantity = rng.integers(1,16)

  return ('{}-{}'.format(order_type1, order_type2), quantity)

def calc_liquidity(limit_order_book):
  #this function just calculates the liquidity for ask and bid to compare them. 
  sell_keys = list(limit_order_book['sells'])
    #create a list of the sells. The list that is returned actually only contains the keys
  buy_keys = list(limit_order_book['buys'])

  ask_liquidity = 0
  for price in sell_keys: 
    #for each key (bid/ask price)
    ask_liquidity += limit_order_book['sells'][price].sum()
      #add to the liquidity total for asks

  bid_liquidity = 0
  for price in buy_keys:
    bid_liquidity += limit_order_book['buys'][price].sum()

  return ask_liquidity, bid_liquidity


def price_time_priority_policy(queue, order_quantity):
  #This function was created by the professor
  #What this function does is takes the queue and makes it a cumulative sum queue
  #meaning that [1,2,3] becomes [1,3,6]
    queue_cumsum = queue.cumsum()
    
    # tells you how many orders deep in the queue you have to go to get the order filled
    # depth_of_queue_to_get_order_filled
    fill_depth = np.argmax(order_quantity < queue_cumsum)
      #following example from before, if cumsum is [1,3,6] and quantity is 3
      #(5 < array[1,3,6]) = (array[False, True, True])
      #np.argmax() returns the index of the first instance of the max value, which between true and false is true
    
    queue[fill_depth] = queue_cumsum[fill_depth] - order_quantity
      #index of the queue from argmax = the values of the cumulative at that index minus the quantity
    
    new_queue = queue[fill_depth:]
      #only include values after where they were filled, the ones before got filled and are not included now
    return new_queue
  

def update_limit_order_book_by_price_time_priority_policy(current_LOB, order_flow, price):
  #this has been updated to accept a price parameter, updating the order book based on the given price as well as the order type
  order_quantity = order_flow[1]

  ask_dict = current_LOB['sells']
  bid_dict = current_LOB['buys']


#if i wanted to scale this to accept more buy types, I would probably do a parse on the order_flow and split it into fewer if statements
  #but idk how to parse strings yet
  if order_flow[0] == 'Market-Bid':
    old_bid_queue = bid_dict[price]
    bid_queue = price_time_priority_policy(old_bid_queue, order_quantity)
    bid_dict[price] = bid_queue
      #Use function to get the updated queue in a market order
  elif order_flow[0] == 'Market-Ask':
    old_ask_queue = ask_dict[price]
    ask_queue = price_time_priority_policy(old_ask_queue, order_quantity)
    ask_dict[price] = ask_queue
  elif order_flow[0] == 'Limit-Bid':
    old_bid_queue = bid_dict[price]
    bid_queue = np.append(old_bid_queue,order_quantity)
    bid_dict[price] = bid_queue
      #append to the queue for a new limit order being added at end of queue
  else:
    old_ask_queue = ask_dict[price]
    ask_queue = np.append(old_ask_queue, order_quantity)
    ask_dict[price] = ask_queue

  return dict(sells = ask_dict, buys = bid_dict)

def simulator(mid_price= 11, std= 1.5, simulations= 10_000):
  order_book = initialize_limit_order_book(mid_price, std, simulations)
  ask_liquidity, bid_liquidity = calc_liquidity(order_book)
  print("ask liquidity = {}, buy liquidity = {}".format(ask_liquidity, bid_liquidity))

  for x in range(int(simulations/1000)):
    #number of order_flow simulations
    order_flow_new = order_flow(order_book)
    order_keys_ask = list(order_book['sells'].keys())
    order_keys_bid = list(order_book['buys'].keys())

    if order_flow_new[0] == 'Market-Bid':
      price = max(order_keys_bid)
    elif order_flow_new[0] == 'Market-Ask':
      price = min(order_keys_ask)
    elif order_flow_new[0] == 'Limit-Bid':
      price = rng.choice(order_keys_bid)
        #append to the queue for a new limit order being added at end of queue
    else:
      price = rng.choice(order_keys_ask)

      #randomly generate the price we want to change
    order_book = update_limit_order_book_by_price_time_priority_policy(current_LOB= order_book, order_flow= order_flow_new, price= price)
  
  ask_liquidity, bid_liquidity = calc_liquidity(order_book)
  print("Post order simulations, liquidity is now: ask liquidity = {}, buy liquidity = {}".format(ask_liquidity, bid_liquidity))

  return order_book

The main issue with my simulator, which you can run below, is that it can only run a limited amount of times. Which is why I divide the number of simulations by 1,000. 

The reason for this is that the way order_flow logic works now, is that if there are more buyers in the liquidity pool, the order flow method will only add new buy orders, eventually buying out all of the seller. 

Either this could be fixed by taking into account the imbalance of liquidity when deciding if a new order is a buyer or seller, or making the status of buyer or seller completely random as well.

simulator()







<h1>Extensions (If Interested, Not Required)</h1>
<br>
<font size="+1">
    <ul>
        <li>This is an example of a type of very real problem that has many questions that need to be answered for many different businesses.</li>
        <br>
        <li>If one is interested, this topic could be extended into a comprehensive project that is presentable to future employers.</li>
        <br>
        <li>Specifically, there are many questions (that have and haven't been addressed in this exam) that require the full spectrum of analytics (descriptive, predictive, and prescriptive) to sufficiently answer. (This is good news!)</li>
        <br>
        <li>For limit order book information on various exchanges, one can access data from many venues including:</li>
        <br>
        <ul>
            <li>IEX, which is one exchange that offers their <a href="https://iextrading.com/trading/market-data/#hist-download">historical data</a> and <a href="https://exchange.iex.io/products/market-data-connectivity/">live data feeds</a> for free. IEX also offers their own <a href="https://exchange.iex.io/products/order-types/">complex/exotic order types.</a></li>
            <br>
            <li><a href="https://polygon.io/sip">Polygon.io - SIP</a> is a good source for all equities market data. To understand more about the SIP, see <a href="https://polygon.io/blog/understanding-the-sips/">here</a>, <a href="https://www.exegy.com/utdf-uqdf-basics-nasdaq-sip-feeds/">here</a>, and <a href="https://focus.world-exchanges.org/articles/nasdaq-market-data">here</a>.</li>
            <br>
            <li><a href="https://www.opraplan.com/">OPRA (Options Pricing Reporting Authority</a>, as well as a <a href="https://www.tradersmagazine.com/news/a-smarter-way-to-get-options-data/">smarter way to get options data.</a></li>
            <br>
        </ul>
        <li>Note that IEX is frequently hiring <a href="https://iex.io/careers/apply/index.html?gh_jid=4595063">business analysts</a> in different <a href="https://iex.io/careers/apply/index.html?gh_jid=4595148">areas</a>.</li>
        <br>
        <li>An additional public database that could be useful is <a href="https://www.sec.gov/edgar/about">EDGAR</a> (Electronic Data Gathering, Analysis, and Retrieval system), which is maintained by the SEC and is the primary database for all disclosures required by the Securities Act of 1933, the Securities Exchange Act of 1934, the Trust Indenture Act of 1939, and the Investment Company Act of 1940.</li>
        <br>
    </ul>
</font>
