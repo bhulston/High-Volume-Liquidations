{
  "nbformat": 4,
  "nbformat_minor": 0,
  "metadata": {
    "colab": {
      "provenance": [],
      "collapsed_sections": [
        "oelo11vrR-ER",
        "sCd5gK4OSMg9"
      ]
    },
    "kernelspec": {
      "name": "python3",
      "display_name": "Python 3"
    },
    "language_info": {
      "name": "python"
    }
  },
  "cells": [
    {
      "cell_type": "markdown",
      "source": [
        "Install Dependencies"
      ],
      "metadata": {
        "id": "uZuB1R_1QY2I"
      }
    },
    {
      "cell_type": "code",
      "source": [
        "!pip install pypi\n",
        "!pip install sktime\n",
        "!pip install pmdarima\n",
        "!pip install mplcyberpunk"
      ],
      "metadata": {
        "colab": {
          "base_uri": "https://localhost:8080/"
        },
        "id": "un25hYuBVZxg",
        "outputId": "08a74687-cad6-4d7b-d8a5-26fbaa67c321"
      },
      "execution_count": 2,
      "outputs": [
        {
          "output_type": "stream",
          "name": "stdout",
          "text": [
            "Looking in indexes: https://pypi.org/simple, https://us-python.pkg.dev/colab-wheels/public/simple/\n",
            "Collecting pypi\n",
            "  Downloading pypi-2.1.tar.gz (997 bytes)\n",
            "  Preparing metadata (setup.py) ... \u001b[?25l\u001b[?25hdone\n",
            "Building wheels for collected packages: pypi\n",
            "  Building wheel for pypi (setup.py) ... \u001b[?25l\u001b[?25hdone\n",
            "  Created wheel for pypi: filename=pypi-2.1-py3-none-any.whl size=1354 sha256=9a7d87dec6a454ddd0f764fff8bd89c0456c9f2ef3b8ac7ab6b19f1b9d1815e0\n",
            "  Stored in directory: /root/.cache/pip/wheels/6e/bb/35/2b31808160dec7d2186ec14eca0b52c3f5a337d1aa40d87f59\n",
            "Successfully built pypi\n",
            "Installing collected packages: pypi\n",
            "Successfully installed pypi-2.1\n",
            "Looking in indexes: https://pypi.org/simple, https://us-python.pkg.dev/colab-wheels/public/simple/\n",
            "Collecting sktime\n",
            "  Downloading sktime-0.15.0-py3-none-any.whl (15.9 MB)\n",
            "\u001b[2K     \u001b[90m━━━━━━━━━━━━━━━━━━━━━━━━━━━━━━━━━━━━━━━━\u001b[0m \u001b[32m15.9/15.9 MB\u001b[0m \u001b[31m53.2 MB/s\u001b[0m eta \u001b[36m0:00:00\u001b[0m\n",
            "\u001b[?25hCollecting deprecated>=1.2.13\n",
            "  Downloading Deprecated-1.2.13-py2.py3-none-any.whl (9.6 kB)\n",
            "Requirement already satisfied: statsmodels>=0.12.1 in /usr/local/lib/python3.8/dist-packages (from sktime) (0.12.2)\n",
            "Requirement already satisfied: pandas<1.6.0,>=1.1.0 in /usr/local/lib/python3.8/dist-packages (from sktime) (1.3.5)\n",
            "Requirement already satisfied: numpy<1.25,>=1.21.0 in /usr/local/lib/python3.8/dist-packages (from sktime) (1.21.6)\n",
            "Requirement already satisfied: scipy<2.0.0 in /usr/local/lib/python3.8/dist-packages (from sktime) (1.7.3)\n",
            "Requirement already satisfied: numba>=0.55 in /usr/local/lib/python3.8/dist-packages (from sktime) (0.56.4)\n",
            "Requirement already satisfied: scikit-learn<1.3.0,>=0.24.0 in /usr/local/lib/python3.8/dist-packages (from sktime) (1.0.2)\n",
            "Requirement already satisfied: wrapt<2,>=1.10 in /usr/local/lib/python3.8/dist-packages (from deprecated>=1.2.13->sktime) (1.14.1)\n",
            "Requirement already satisfied: llvmlite<0.40,>=0.39.0dev0 in /usr/local/lib/python3.8/dist-packages (from numba>=0.55->sktime) (0.39.1)\n",
            "Requirement already satisfied: importlib-metadata in /usr/local/lib/python3.8/dist-packages (from numba>=0.55->sktime) (5.2.0)\n",
            "Requirement already satisfied: setuptools in /usr/local/lib/python3.8/dist-packages (from numba>=0.55->sktime) (57.4.0)\n",
            "Requirement already satisfied: pytz>=2017.3 in /usr/local/lib/python3.8/dist-packages (from pandas<1.6.0,>=1.1.0->sktime) (2022.7)\n",
            "Requirement already satisfied: python-dateutil>=2.7.3 in /usr/local/lib/python3.8/dist-packages (from pandas<1.6.0,>=1.1.0->sktime) (2.8.2)\n",
            "Requirement already satisfied: joblib>=0.11 in /usr/local/lib/python3.8/dist-packages (from scikit-learn<1.3.0,>=0.24.0->sktime) (1.2.0)\n",
            "Requirement already satisfied: threadpoolctl>=2.0.0 in /usr/local/lib/python3.8/dist-packages (from scikit-learn<1.3.0,>=0.24.0->sktime) (3.1.0)\n",
            "Requirement already satisfied: patsy>=0.5 in /usr/local/lib/python3.8/dist-packages (from statsmodels>=0.12.1->sktime) (0.5.3)\n",
            "Requirement already satisfied: six in /usr/local/lib/python3.8/dist-packages (from patsy>=0.5->statsmodels>=0.12.1->sktime) (1.15.0)\n",
            "Requirement already satisfied: zipp>=0.5 in /usr/local/lib/python3.8/dist-packages (from importlib-metadata->numba>=0.55->sktime) (3.11.0)\n",
            "Installing collected packages: deprecated, sktime\n",
            "Successfully installed deprecated-1.2.13 sktime-0.15.0\n",
            "Looking in indexes: https://pypi.org/simple, https://us-python.pkg.dev/colab-wheels/public/simple/\n",
            "Collecting pmdarima\n",
            "  Downloading pmdarima-2.0.2-cp38-cp38-manylinux_2_17_x86_64.manylinux2014_x86_64.manylinux_2_28_x86_64.whl (1.9 MB)\n",
            "\u001b[2K     \u001b[90m━━━━━━━━━━━━━━━━━━━━━━━━━━━━━━━━━━━━━━━━\u001b[0m \u001b[32m1.9/1.9 MB\u001b[0m \u001b[31m23.8 MB/s\u001b[0m eta \u001b[36m0:00:00\u001b[0m\n",
            "\u001b[?25hRequirement already satisfied: pandas>=0.19 in /usr/local/lib/python3.8/dist-packages (from pmdarima) (1.3.5)\n",
            "Requirement already satisfied: Cython!=0.29.18,!=0.29.31,>=0.29 in /usr/local/lib/python3.8/dist-packages (from pmdarima) (0.29.32)\n",
            "Requirement already satisfied: scipy>=1.3.2 in /usr/local/lib/python3.8/dist-packages (from pmdarima) (1.7.3)\n",
            "Requirement already satisfied: numpy>=1.21.2 in /usr/local/lib/python3.8/dist-packages (from pmdarima) (1.21.6)\n",
            "Collecting statsmodels>=0.13.2\n",
            "  Downloading statsmodels-0.13.5-cp38-cp38-manylinux_2_17_x86_64.manylinux2014_x86_64.whl (9.9 MB)\n",
            "\u001b[2K     \u001b[90m━━━━━━━━━━━━━━━━━━━━━━━━━━━━━━━━━━━━━━━━\u001b[0m \u001b[32m9.9/9.9 MB\u001b[0m \u001b[31m69.9 MB/s\u001b[0m eta \u001b[36m0:00:00\u001b[0m\n",
            "\u001b[?25hRequirement already satisfied: scikit-learn>=0.22 in /usr/local/lib/python3.8/dist-packages (from pmdarima) (1.0.2)\n",
            "Requirement already satisfied: setuptools!=50.0.0,>=38.6.0 in /usr/local/lib/python3.8/dist-packages (from pmdarima) (57.4.0)\n",
            "Requirement already satisfied: joblib>=0.11 in /usr/local/lib/python3.8/dist-packages (from pmdarima) (1.2.0)\n",
            "Requirement already satisfied: urllib3 in /usr/local/lib/python3.8/dist-packages (from pmdarima) (1.24.3)\n",
            "Requirement already satisfied: python-dateutil>=2.7.3 in /usr/local/lib/python3.8/dist-packages (from pandas>=0.19->pmdarima) (2.8.2)\n",
            "Requirement already satisfied: pytz>=2017.3 in /usr/local/lib/python3.8/dist-packages (from pandas>=0.19->pmdarima) (2022.7)\n",
            "Requirement already satisfied: threadpoolctl>=2.0.0 in /usr/local/lib/python3.8/dist-packages (from scikit-learn>=0.22->pmdarima) (3.1.0)\n",
            "Requirement already satisfied: patsy>=0.5.2 in /usr/local/lib/python3.8/dist-packages (from statsmodels>=0.13.2->pmdarima) (0.5.3)\n",
            "Requirement already satisfied: packaging>=21.3 in /usr/local/lib/python3.8/dist-packages (from statsmodels>=0.13.2->pmdarima) (21.3)\n",
            "Requirement already satisfied: pyparsing!=3.0.5,>=2.0.2 in /usr/local/lib/python3.8/dist-packages (from packaging>=21.3->statsmodels>=0.13.2->pmdarima) (3.0.9)\n",
            "Requirement already satisfied: six in /usr/local/lib/python3.8/dist-packages (from patsy>=0.5.2->statsmodels>=0.13.2->pmdarima) (1.15.0)\n",
            "Installing collected packages: statsmodels, pmdarima\n",
            "  Attempting uninstall: statsmodels\n",
            "    Found existing installation: statsmodels 0.12.2\n",
            "    Uninstalling statsmodels-0.12.2:\n",
            "      Successfully uninstalled statsmodels-0.12.2\n",
            "Successfully installed pmdarima-2.0.2 statsmodels-0.13.5\n",
            "Looking in indexes: https://pypi.org/simple, https://us-python.pkg.dev/colab-wheels/public/simple/\n",
            "Collecting mplcyberpunk\n",
            "  Downloading mplcyberpunk-0.6.0-py3-none-any.whl (6.0 kB)\n",
            "Requirement already satisfied: matplotlib in /usr/local/lib/python3.8/dist-packages (from mplcyberpunk) (3.2.2)\n",
            "Requirement already satisfied: python-dateutil>=2.1 in /usr/local/lib/python3.8/dist-packages (from matplotlib->mplcyberpunk) (2.8.2)\n",
            "Requirement already satisfied: cycler>=0.10 in /usr/local/lib/python3.8/dist-packages (from matplotlib->mplcyberpunk) (0.11.0)\n",
            "Requirement already satisfied: kiwisolver>=1.0.1 in /usr/local/lib/python3.8/dist-packages (from matplotlib->mplcyberpunk) (1.4.4)\n",
            "Requirement already satisfied: numpy>=1.11 in /usr/local/lib/python3.8/dist-packages (from matplotlib->mplcyberpunk) (1.21.6)\n",
            "Requirement already satisfied: pyparsing!=2.0.4,!=2.1.2,!=2.1.6,>=2.0.1 in /usr/local/lib/python3.8/dist-packages (from matplotlib->mplcyberpunk) (3.0.9)\n",
            "Requirement already satisfied: six>=1.5 in /usr/local/lib/python3.8/dist-packages (from python-dateutil>=2.1->matplotlib->mplcyberpunk) (1.15.0)\n",
            "Installing collected packages: mplcyberpunk\n",
            "Successfully installed mplcyberpunk-0.6.0\n"
          ]
        }
      ]
    },
    {
      "cell_type": "code",
      "execution_count": 3,
      "metadata": {
        "id": "R3xAPiNUQSlO"
      },
      "outputs": [],
      "source": [
        "import pandas as pd\n",
        "import numpy as np\n",
        "import datetime as dt\n",
        "import plotly as pt\n",
        "import matplotlib.pyplot as plt\n",
        "from matplotlib import style\n",
        "import seaborn as sns\n",
        "import mplcyberpunk\n",
        "# from stldecompose import decompose\n",
        "\n",
        "import os\n",
        "import sys\n",
        "\n",
        "%matplotlib inline"
      ]
    },
    {
      "cell_type": "code",
      "source": [
        "data = pd.read_csv('/content/LOB_data.csv')"
      ],
      "metadata": {
        "id": "n7IdJ0LaQ3l0"
      },
      "execution_count": 4,
      "outputs": []
    },
    {
      "cell_type": "code",
      "source": [
        "data = data.copy().iloc[:]\n",
        "data = data.reset_index()\n",
        "data"
      ],
      "metadata": {
        "colab": {
          "base_uri": "https://localhost:8080/",
          "height": 487
        },
        "id": "iTHExsm7QuRG",
        "outputId": "ae042f79-9647-48e9-90a0-fb937876fad4"
      },
      "execution_count": 5,
      "outputs": [
        {
          "output_type": "execute_result",
          "data": {
            "text/plain": [
              "      index            timestamp  mid_price  bid_price  ask_price  \\\n",
              "0         0  12_26_2022,01_20_08    16830.0    16850.0   16840.00   \n",
              "1         1  12_26_2022,01_20_18    16830.0    16850.0   16840.00   \n",
              "2         2  12_26_2022,01_21_41    16830.0    16850.0   16840.00   \n",
              "3         3  12_26_2022,01_22_11    16830.0    16850.0   16840.00   \n",
              "4         4  12_26_2022,01_22_41    16830.0    16850.0   16840.00   \n",
              "...     ...                  ...        ...        ...        ...   \n",
              "2359   2359  12_26_2022,21_00_41    16882.5    16897.0   16889.75   \n",
              "2360   2360  12_26_2022,21_01_11    16882.5    16897.0   16889.75   \n",
              "2361   2361  12_26_2022,21_01_41    16882.5    16897.0   16889.75   \n",
              "2362   2362  12_26_2022,21_02_11    16882.5    16897.0   16889.75   \n",
              "2363   2363  12_26_2022,21_02_41    16882.5    16897.0   16889.75   \n",
              "\n",
              "      bid_liq_.002  bid_liq_.0033   bid_liq_.01   bid_liq_.03   bid_liq_.05  \\\n",
              "0     1.323464e+09   1.405543e+09  1.079406e+10  4.175698e+10  5.327345e+10   \n",
              "1     1.323464e+09   1.405543e+09  1.079406e+10  4.175698e+10  5.327345e+10   \n",
              "2     1.323464e+09   1.405543e+09  1.079406e+10  4.175698e+10  5.327345e+10   \n",
              "3     1.323464e+09   1.405543e+09  1.079406e+10  4.175698e+10  5.327345e+10   \n",
              "4     1.323464e+09   1.405543e+09  1.079406e+10  4.175698e+10  5.327345e+10   \n",
              "...            ...            ...           ...           ...           ...   \n",
              "2359  6.754584e+10   6.894599e+10  7.717633e+10  1.086895e+11  1.212712e+11   \n",
              "2360  6.753571e+10   6.893586e+10  7.716620e+10  1.086793e+11  1.212611e+11   \n",
              "2361  6.753571e+10   6.893586e+10  7.716620e+10  1.086793e+11  1.212611e+11   \n",
              "2362  6.753571e+10   6.893586e+10  7.716620e+10  1.086793e+11  1.212611e+11   \n",
              "2363  6.753571e+10   6.893586e+10  7.716620e+10  1.086793e+11  1.212611e+11   \n",
              "\n",
              "      ...  ask_liq_.0033   ask_liq_.01   ask_liq_.03   ask_liq_.05  dir  \\\n",
              "0     ...   1.428574e+09  1.015276e+10  4.871631e+10  9.206687e+10    0   \n",
              "1     ...   1.428574e+09  1.015276e+10  4.871631e+10  9.206687e+10    0   \n",
              "2     ...   1.428574e+09  1.015276e+10  4.871631e+10  9.206687e+10    0   \n",
              "3     ...   1.428574e+09  1.015276e+10  4.871631e+10  9.206687e+10    0   \n",
              "4     ...   1.428574e+09  1.015276e+10  4.871631e+10  9.206687e+10    0   \n",
              "...   ...            ...           ...           ...           ...  ...   \n",
              "2359  ...   1.540508e+09  4.702479e+09  4.325110e+10  9.331184e+10    0   \n",
              "2360  ...   1.550646e+09  4.712617e+09  4.326124e+10  9.332198e+10    0   \n",
              "2361  ...   1.550646e+09  4.712617e+09  4.326124e+10  9.332198e+10    0   \n",
              "2362  ...   1.550646e+09  4.712617e+09  4.326124e+10  9.332198e+10    0   \n",
              "2363  ...   1.550646e+09  4.712617e+09  4.326124e+10  9.332198e+10    0   \n",
              "\n",
              "      spread  log_ret_ask  log_ret_bid      sma           ema  \n",
              "0     -10.00     0.000000     0.000000      0.0      0.000000  \n",
              "1     -10.00     0.000000     0.000000      0.0      0.000000  \n",
              "2     -10.00     0.000000     0.000000      0.0      0.000000  \n",
              "3     -10.00     0.000000     0.000000      0.0      0.000000  \n",
              "4     -10.00     0.000000     0.000000  16830.0  16830.000000  \n",
              "...      ...          ...          ...      ...           ...  \n",
              "2359   -7.25    -0.000044    -0.000089  16882.4  16882.079848  \n",
              "2360   -7.25     0.000000     0.000000  16882.5  16882.219899  \n",
              "2361   -7.25     0.000000     0.000000  16882.5  16882.313266  \n",
              "2362   -7.25     0.000000     0.000000  16882.5  16882.375511  \n",
              "2363   -7.25     0.000000     0.000000  16882.5  16882.417007  \n",
              "\n",
              "[2364 rows x 21 columns]"
            ],
            "text/html": [
              "\n",
              "  <div id=\"df-68c2e17c-1049-418f-ac42-67e95408443b\">\n",
              "    <div class=\"colab-df-container\">\n",
              "      <div>\n",
              "<style scoped>\n",
              "    .dataframe tbody tr th:only-of-type {\n",
              "        vertical-align: middle;\n",
              "    }\n",
              "\n",
              "    .dataframe tbody tr th {\n",
              "        vertical-align: top;\n",
              "    }\n",
              "\n",
              "    .dataframe thead th {\n",
              "        text-align: right;\n",
              "    }\n",
              "</style>\n",
              "<table border=\"1\" class=\"dataframe\">\n",
              "  <thead>\n",
              "    <tr style=\"text-align: right;\">\n",
              "      <th></th>\n",
              "      <th>index</th>\n",
              "      <th>timestamp</th>\n",
              "      <th>mid_price</th>\n",
              "      <th>bid_price</th>\n",
              "      <th>ask_price</th>\n",
              "      <th>bid_liq_.002</th>\n",
              "      <th>bid_liq_.0033</th>\n",
              "      <th>bid_liq_.01</th>\n",
              "      <th>bid_liq_.03</th>\n",
              "      <th>bid_liq_.05</th>\n",
              "      <th>...</th>\n",
              "      <th>ask_liq_.0033</th>\n",
              "      <th>ask_liq_.01</th>\n",
              "      <th>ask_liq_.03</th>\n",
              "      <th>ask_liq_.05</th>\n",
              "      <th>dir</th>\n",
              "      <th>spread</th>\n",
              "      <th>log_ret_ask</th>\n",
              "      <th>log_ret_bid</th>\n",
              "      <th>sma</th>\n",
              "      <th>ema</th>\n",
              "    </tr>\n",
              "  </thead>\n",
              "  <tbody>\n",
              "    <tr>\n",
              "      <th>0</th>\n",
              "      <td>0</td>\n",
              "      <td>12_26_2022,01_20_08</td>\n",
              "      <td>16830.0</td>\n",
              "      <td>16850.0</td>\n",
              "      <td>16840.00</td>\n",
              "      <td>1.323464e+09</td>\n",
              "      <td>1.405543e+09</td>\n",
              "      <td>1.079406e+10</td>\n",
              "      <td>4.175698e+10</td>\n",
              "      <td>5.327345e+10</td>\n",
              "      <td>...</td>\n",
              "      <td>1.428574e+09</td>\n",
              "      <td>1.015276e+10</td>\n",
              "      <td>4.871631e+10</td>\n",
              "      <td>9.206687e+10</td>\n",
              "      <td>0</td>\n",
              "      <td>-10.00</td>\n",
              "      <td>0.000000</td>\n",
              "      <td>0.000000</td>\n",
              "      <td>0.0</td>\n",
              "      <td>0.000000</td>\n",
              "    </tr>\n",
              "    <tr>\n",
              "      <th>1</th>\n",
              "      <td>1</td>\n",
              "      <td>12_26_2022,01_20_18</td>\n",
              "      <td>16830.0</td>\n",
              "      <td>16850.0</td>\n",
              "      <td>16840.00</td>\n",
              "      <td>1.323464e+09</td>\n",
              "      <td>1.405543e+09</td>\n",
              "      <td>1.079406e+10</td>\n",
              "      <td>4.175698e+10</td>\n",
              "      <td>5.327345e+10</td>\n",
              "      <td>...</td>\n",
              "      <td>1.428574e+09</td>\n",
              "      <td>1.015276e+10</td>\n",
              "      <td>4.871631e+10</td>\n",
              "      <td>9.206687e+10</td>\n",
              "      <td>0</td>\n",
              "      <td>-10.00</td>\n",
              "      <td>0.000000</td>\n",
              "      <td>0.000000</td>\n",
              "      <td>0.0</td>\n",
              "      <td>0.000000</td>\n",
              "    </tr>\n",
              "    <tr>\n",
              "      <th>2</th>\n",
              "      <td>2</td>\n",
              "      <td>12_26_2022,01_21_41</td>\n",
              "      <td>16830.0</td>\n",
              "      <td>16850.0</td>\n",
              "      <td>16840.00</td>\n",
              "      <td>1.323464e+09</td>\n",
              "      <td>1.405543e+09</td>\n",
              "      <td>1.079406e+10</td>\n",
              "      <td>4.175698e+10</td>\n",
              "      <td>5.327345e+10</td>\n",
              "      <td>...</td>\n",
              "      <td>1.428574e+09</td>\n",
              "      <td>1.015276e+10</td>\n",
              "      <td>4.871631e+10</td>\n",
              "      <td>9.206687e+10</td>\n",
              "      <td>0</td>\n",
              "      <td>-10.00</td>\n",
              "      <td>0.000000</td>\n",
              "      <td>0.000000</td>\n",
              "      <td>0.0</td>\n",
              "      <td>0.000000</td>\n",
              "    </tr>\n",
              "    <tr>\n",
              "      <th>3</th>\n",
              "      <td>3</td>\n",
              "      <td>12_26_2022,01_22_11</td>\n",
              "      <td>16830.0</td>\n",
              "      <td>16850.0</td>\n",
              "      <td>16840.00</td>\n",
              "      <td>1.323464e+09</td>\n",
              "      <td>1.405543e+09</td>\n",
              "      <td>1.079406e+10</td>\n",
              "      <td>4.175698e+10</td>\n",
              "      <td>5.327345e+10</td>\n",
              "      <td>...</td>\n",
              "      <td>1.428574e+09</td>\n",
              "      <td>1.015276e+10</td>\n",
              "      <td>4.871631e+10</td>\n",
              "      <td>9.206687e+10</td>\n",
              "      <td>0</td>\n",
              "      <td>-10.00</td>\n",
              "      <td>0.000000</td>\n",
              "      <td>0.000000</td>\n",
              "      <td>0.0</td>\n",
              "      <td>0.000000</td>\n",
              "    </tr>\n",
              "    <tr>\n",
              "      <th>4</th>\n",
              "      <td>4</td>\n",
              "      <td>12_26_2022,01_22_41</td>\n",
              "      <td>16830.0</td>\n",
              "      <td>16850.0</td>\n",
              "      <td>16840.00</td>\n",
              "      <td>1.323464e+09</td>\n",
              "      <td>1.405543e+09</td>\n",
              "      <td>1.079406e+10</td>\n",
              "      <td>4.175698e+10</td>\n",
              "      <td>5.327345e+10</td>\n",
              "      <td>...</td>\n",
              "      <td>1.428574e+09</td>\n",
              "      <td>1.015276e+10</td>\n",
              "      <td>4.871631e+10</td>\n",
              "      <td>9.206687e+10</td>\n",
              "      <td>0</td>\n",
              "      <td>-10.00</td>\n",
              "      <td>0.000000</td>\n",
              "      <td>0.000000</td>\n",
              "      <td>16830.0</td>\n",
              "      <td>16830.000000</td>\n",
              "    </tr>\n",
              "    <tr>\n",
              "      <th>...</th>\n",
              "      <td>...</td>\n",
              "      <td>...</td>\n",
              "      <td>...</td>\n",
              "      <td>...</td>\n",
              "      <td>...</td>\n",
              "      <td>...</td>\n",
              "      <td>...</td>\n",
              "      <td>...</td>\n",
              "      <td>...</td>\n",
              "      <td>...</td>\n",
              "      <td>...</td>\n",
              "      <td>...</td>\n",
              "      <td>...</td>\n",
              "      <td>...</td>\n",
              "      <td>...</td>\n",
              "      <td>...</td>\n",
              "      <td>...</td>\n",
              "      <td>...</td>\n",
              "      <td>...</td>\n",
              "      <td>...</td>\n",
              "      <td>...</td>\n",
              "    </tr>\n",
              "    <tr>\n",
              "      <th>2359</th>\n",
              "      <td>2359</td>\n",
              "      <td>12_26_2022,21_00_41</td>\n",
              "      <td>16882.5</td>\n",
              "      <td>16897.0</td>\n",
              "      <td>16889.75</td>\n",
              "      <td>6.754584e+10</td>\n",
              "      <td>6.894599e+10</td>\n",
              "      <td>7.717633e+10</td>\n",
              "      <td>1.086895e+11</td>\n",
              "      <td>1.212712e+11</td>\n",
              "      <td>...</td>\n",
              "      <td>1.540508e+09</td>\n",
              "      <td>4.702479e+09</td>\n",
              "      <td>4.325110e+10</td>\n",
              "      <td>9.331184e+10</td>\n",
              "      <td>0</td>\n",
              "      <td>-7.25</td>\n",
              "      <td>-0.000044</td>\n",
              "      <td>-0.000089</td>\n",
              "      <td>16882.4</td>\n",
              "      <td>16882.079848</td>\n",
              "    </tr>\n",
              "    <tr>\n",
              "      <th>2360</th>\n",
              "      <td>2360</td>\n",
              "      <td>12_26_2022,21_01_11</td>\n",
              "      <td>16882.5</td>\n",
              "      <td>16897.0</td>\n",
              "      <td>16889.75</td>\n",
              "      <td>6.753571e+10</td>\n",
              "      <td>6.893586e+10</td>\n",
              "      <td>7.716620e+10</td>\n",
              "      <td>1.086793e+11</td>\n",
              "      <td>1.212611e+11</td>\n",
              "      <td>...</td>\n",
              "      <td>1.550646e+09</td>\n",
              "      <td>4.712617e+09</td>\n",
              "      <td>4.326124e+10</td>\n",
              "      <td>9.332198e+10</td>\n",
              "      <td>0</td>\n",
              "      <td>-7.25</td>\n",
              "      <td>0.000000</td>\n",
              "      <td>0.000000</td>\n",
              "      <td>16882.5</td>\n",
              "      <td>16882.219899</td>\n",
              "    </tr>\n",
              "    <tr>\n",
              "      <th>2361</th>\n",
              "      <td>2361</td>\n",
              "      <td>12_26_2022,21_01_41</td>\n",
              "      <td>16882.5</td>\n",
              "      <td>16897.0</td>\n",
              "      <td>16889.75</td>\n",
              "      <td>6.753571e+10</td>\n",
              "      <td>6.893586e+10</td>\n",
              "      <td>7.716620e+10</td>\n",
              "      <td>1.086793e+11</td>\n",
              "      <td>1.212611e+11</td>\n",
              "      <td>...</td>\n",
              "      <td>1.550646e+09</td>\n",
              "      <td>4.712617e+09</td>\n",
              "      <td>4.326124e+10</td>\n",
              "      <td>9.332198e+10</td>\n",
              "      <td>0</td>\n",
              "      <td>-7.25</td>\n",
              "      <td>0.000000</td>\n",
              "      <td>0.000000</td>\n",
              "      <td>16882.5</td>\n",
              "      <td>16882.313266</td>\n",
              "    </tr>\n",
              "    <tr>\n",
              "      <th>2362</th>\n",
              "      <td>2362</td>\n",
              "      <td>12_26_2022,21_02_11</td>\n",
              "      <td>16882.5</td>\n",
              "      <td>16897.0</td>\n",
              "      <td>16889.75</td>\n",
              "      <td>6.753571e+10</td>\n",
              "      <td>6.893586e+10</td>\n",
              "      <td>7.716620e+10</td>\n",
              "      <td>1.086793e+11</td>\n",
              "      <td>1.212611e+11</td>\n",
              "      <td>...</td>\n",
              "      <td>1.550646e+09</td>\n",
              "      <td>4.712617e+09</td>\n",
              "      <td>4.326124e+10</td>\n",
              "      <td>9.332198e+10</td>\n",
              "      <td>0</td>\n",
              "      <td>-7.25</td>\n",
              "      <td>0.000000</td>\n",
              "      <td>0.000000</td>\n",
              "      <td>16882.5</td>\n",
              "      <td>16882.375511</td>\n",
              "    </tr>\n",
              "    <tr>\n",
              "      <th>2363</th>\n",
              "      <td>2363</td>\n",
              "      <td>12_26_2022,21_02_41</td>\n",
              "      <td>16882.5</td>\n",
              "      <td>16897.0</td>\n",
              "      <td>16889.75</td>\n",
              "      <td>6.753571e+10</td>\n",
              "      <td>6.893586e+10</td>\n",
              "      <td>7.716620e+10</td>\n",
              "      <td>1.086793e+11</td>\n",
              "      <td>1.212611e+11</td>\n",
              "      <td>...</td>\n",
              "      <td>1.550646e+09</td>\n",
              "      <td>4.712617e+09</td>\n",
              "      <td>4.326124e+10</td>\n",
              "      <td>9.332198e+10</td>\n",
              "      <td>0</td>\n",
              "      <td>-7.25</td>\n",
              "      <td>0.000000</td>\n",
              "      <td>0.000000</td>\n",
              "      <td>16882.5</td>\n",
              "      <td>16882.417007</td>\n",
              "    </tr>\n",
              "  </tbody>\n",
              "</table>\n",
              "<p>2364 rows × 21 columns</p>\n",
              "</div>\n",
              "      <button class=\"colab-df-convert\" onclick=\"convertToInteractive('df-68c2e17c-1049-418f-ac42-67e95408443b')\"\n",
              "              title=\"Convert this dataframe to an interactive table.\"\n",
              "              style=\"display:none;\">\n",
              "        \n",
              "  <svg xmlns=\"http://www.w3.org/2000/svg\" height=\"24px\"viewBox=\"0 0 24 24\"\n",
              "       width=\"24px\">\n",
              "    <path d=\"M0 0h24v24H0V0z\" fill=\"none\"/>\n",
              "    <path d=\"M18.56 5.44l.94 2.06.94-2.06 2.06-.94-2.06-.94-.94-2.06-.94 2.06-2.06.94zm-11 1L8.5 8.5l.94-2.06 2.06-.94-2.06-.94L8.5 2.5l-.94 2.06-2.06.94zm10 10l.94 2.06.94-2.06 2.06-.94-2.06-.94-.94-2.06-.94 2.06-2.06.94z\"/><path d=\"M17.41 7.96l-1.37-1.37c-.4-.4-.92-.59-1.43-.59-.52 0-1.04.2-1.43.59L10.3 9.45l-7.72 7.72c-.78.78-.78 2.05 0 2.83L4 21.41c.39.39.9.59 1.41.59.51 0 1.02-.2 1.41-.59l7.78-7.78 2.81-2.81c.8-.78.8-2.07 0-2.86zM5.41 20L4 18.59l7.72-7.72 1.47 1.35L5.41 20z\"/>\n",
              "  </svg>\n",
              "      </button>\n",
              "      \n",
              "  <style>\n",
              "    .colab-df-container {\n",
              "      display:flex;\n",
              "      flex-wrap:wrap;\n",
              "      gap: 12px;\n",
              "    }\n",
              "\n",
              "    .colab-df-convert {\n",
              "      background-color: #E8F0FE;\n",
              "      border: none;\n",
              "      border-radius: 50%;\n",
              "      cursor: pointer;\n",
              "      display: none;\n",
              "      fill: #1967D2;\n",
              "      height: 32px;\n",
              "      padding: 0 0 0 0;\n",
              "      width: 32px;\n",
              "    }\n",
              "\n",
              "    .colab-df-convert:hover {\n",
              "      background-color: #E2EBFA;\n",
              "      box-shadow: 0px 1px 2px rgba(60, 64, 67, 0.3), 0px 1px 3px 1px rgba(60, 64, 67, 0.15);\n",
              "      fill: #174EA6;\n",
              "    }\n",
              "\n",
              "    [theme=dark] .colab-df-convert {\n",
              "      background-color: #3B4455;\n",
              "      fill: #D2E3FC;\n",
              "    }\n",
              "\n",
              "    [theme=dark] .colab-df-convert:hover {\n",
              "      background-color: #434B5C;\n",
              "      box-shadow: 0px 1px 3px 1px rgba(0, 0, 0, 0.15);\n",
              "      filter: drop-shadow(0px 1px 2px rgba(0, 0, 0, 0.3));\n",
              "      fill: #FFFFFF;\n",
              "    }\n",
              "  </style>\n",
              "\n",
              "      <script>\n",
              "        const buttonEl =\n",
              "          document.querySelector('#df-68c2e17c-1049-418f-ac42-67e95408443b button.colab-df-convert');\n",
              "        buttonEl.style.display =\n",
              "          google.colab.kernel.accessAllowed ? 'block' : 'none';\n",
              "\n",
              "        async function convertToInteractive(key) {\n",
              "          const element = document.querySelector('#df-68c2e17c-1049-418f-ac42-67e95408443b');\n",
              "          const dataTable =\n",
              "            await google.colab.kernel.invokeFunction('convertToInteractive',\n",
              "                                                     [key], {});\n",
              "          if (!dataTable) return;\n",
              "\n",
              "          const docLinkHtml = 'Like what you see? Visit the ' +\n",
              "            '<a target=\"_blank\" href=https://colab.research.google.com/notebooks/data_table.ipynb>data table notebook</a>'\n",
              "            + ' to learn more about interactive tables.';\n",
              "          element.innerHTML = '';\n",
              "          dataTable['output_type'] = 'display_data';\n",
              "          await google.colab.output.renderOutput(dataTable, element);\n",
              "          const docLink = document.createElement('div');\n",
              "          docLink.innerHTML = docLinkHtml;\n",
              "          element.appendChild(docLink);\n",
              "        }\n",
              "      </script>\n",
              "    </div>\n",
              "  </div>\n",
              "  "
            ]
          },
          "metadata": {},
          "execution_count": 5
        }
      ]
    },
    {
      "cell_type": "markdown",
      "source": [
        "# Models\n",
        "\n",
        "*   I am going to work with 2 models for predictions, an LSTM and XGB model, compared to a baseline exponential smoothing and ARIMA model\n",
        "  * The exponential smoothing model is a common time-series analysis method which is fairly simple to implement\n",
        "  * NOTE: These baseline models perform best with \"stationary\" data. In this case, we do NOT have stationary data, but these are probably still the best baseline performers\n",
        "*   Based on my research it seems XGBoost models and Prophet models perform best\n",
        "  * However, LSTMs are very popular so I am implementing a ***LSTM model and XGB model***\n",
        "\n"
      ],
      "metadata": {
        "id": "0h6dMPD8X6-9"
      }
    },
    {
      "cell_type": "markdown",
      "source": [
        "# Baseline Models\n",
        "\n",
        "*   We want to use common statistical models as a baseline for comparison\n",
        "*   These are univariate models based solely on the price\n",
        "  * On the contrary, we want to use more complex models (later in notebook) that let us use multivariate inputs to see if these can perform better\n",
        "\n"
      ],
      "metadata": {
        "id": "dbbONvKjCSH5"
      }
    },
    {
      "cell_type": "markdown",
      "source": [
        "## Exponential Smoothing Model"
      ],
      "metadata": {
        "id": "oelo11vrR-ER"
      }
    },
    {
      "cell_type": "markdown",
      "source": [
        "### Data Preparation for Exponential Smoothing\n",
        "\n"
      ],
      "metadata": {
        "id": "4nOZkxC-ERZN"
      }
    },
    {
      "cell_type": "code",
      "source": [
        "exp_data = data.copy()\n",
        "exp_data = exp_data['mid_price']\n",
        "\n",
        "exp_split = 10\n",
        "\n",
        "test_exp_data = exp_data.copy().iloc[-exp_split:]\n",
        "exp_data = exp_data.iloc[:-exp_split]"
      ],
      "metadata": {
        "id": "c4mCwXdBEwuD"
      },
      "execution_count": 6,
      "outputs": []
    },
    {
      "cell_type": "markdown",
      "source": [
        "### Exponential Smoothing Model Implementation\n",
        "\n",
        "*   Exponential smoothing is a common statistical method used for time series analysis that uses the exponential weighted average of past prices\n",
        "*   An exponential smoothing model is univariate, only using one dimensional data as an input\n",
        "*   We use a DES(Double Exponential Smoothing) Model that takes into account general trends of the univariate data\n",
        "    * Also known as Holt's Double Exponential Smoothing, this will essentially produce a linear trend line\n",
        "\n"
      ],
      "metadata": {
        "id": "lRh6liX9ExIr"
      }
    },
    {
      "cell_type": "code",
      "source": [
        "from statsmodels.tsa.api import SimpleExpSmoothing, ExponentialSmoothing, Holt\n",
        "\n",
        "## DES ##\n",
        "fit1 = Holt(exp_data, initialization_method=\"heuristic\").fit(\n",
        "    smoothing_level=0.3, smoothing_slope =0.1\n",
        ")\n",
        "fcast1 = fit1.forecast(exp_split).rename(r\"Holt DES - $\\alpha=0.3$\")\n",
        "\n",
        "fit2 = Holt(exp_data, initialization_method=\"heuristic\").fit(\n",
        "    smoothing_level=0.8, smoothing_slope= 0.1\n",
        ")\n",
        "fcast2 = fit2.forecast(exp_split).rename(r\"Holt DES - $\\alpha=0.8$\")\n",
        "\n",
        "## TES ##\n",
        "fit3 = ExponentialSmoothing(exp_data, seasonal_periods= 5, trend= 'mul', seasonal= 'mul').fit()\n",
        "fcast3 = fit3.forecast(exp_split).rename(r\"TES - $\\alpha=%s$\" % fit3.model.params[\"smoothing_level\"])\n",
        "\n",
        "plt.style.use(\"cyberpunk\")\n",
        "plt.figure(figsize=(12, 8))\n",
        "(train1,) = plt.plot(exp_data[-(exp_split * 2):], marker=\"o\", color=\"white\")\n",
        "(prediction,) = plt.plot(test_exp_data, marker = 'x', color = 'white')\n",
        "(line1,) = plt.plot(fcast1, marker=\"o\")\n",
        "(line2,) = plt.plot(fcast2, marker=\"o\")\n",
        "(line3,) = plt.plot(fcast3, marker=\"o\")\n",
        "plt.legend([train1, prediction, line1, line2, line3], ['Training', 'Actual Values', fcast1.name, fcast2.name, fcast3.name])"
      ],
      "metadata": {
        "colab": {
          "base_uri": "https://localhost:8080/",
          "height": 0
        },
        "id": "X2E_YTQEE_vZ",
        "outputId": "0b4b08ee-e431-4050-89ab-41288439a3b3"
      },
      "execution_count": 7,
      "outputs": [
        {
          "output_type": "stream",
          "name": "stderr",
          "text": [
            "<ipython-input-7-8a93dd49b4f2>:4: FutureWarning: the 'smoothing_slope'' keyword is deprecated, use 'smoothing_trend' instead\n",
            "  fit1 = Holt(exp_data, initialization_method=\"heuristic\").fit(\n",
            "<ipython-input-7-8a93dd49b4f2>:9: FutureWarning: the 'smoothing_slope'' keyword is deprecated, use 'smoothing_trend' instead\n",
            "  fit2 = Holt(exp_data, initialization_method=\"heuristic\").fit(\n",
            "/usr/local/lib/python3.8/dist-packages/statsmodels/tsa/holtwinters/model.py:83: RuntimeWarning: overflow encountered in matmul\n",
            "  return err.T @ err\n"
          ]
        },
        {
          "output_type": "execute_result",
          "data": {
            "text/plain": [
              "<matplotlib.legend.Legend at 0x7fce54d79850>"
            ]
          },
          "metadata": {},
          "execution_count": 7
        },
        {
          "output_type": "display_data",
          "data": {
            "text/plain": [
              "<Figure size 864x576 with 1 Axes>"
            ],
            "image/png": "[encoded data removed]"
          },
          "metadata": {}
        }
      ]
    },
    {
      "cell_type": "markdown",
      "source": [
        "## ARIMA Model"
      ],
      "metadata": {
        "id": "sCd5gK4OSMg9"
      }
    },
    {
      "cell_type": "markdown",
      "source": [
        "### Data Preparation for ARIMA Modeling\n",
        "\n",
        "\n",
        "*   ARIMA modeling requires us to use \"stationary\" data for predictions\n",
        "*   Stationary data meaning that the mean and variance are equal to 0. Tough here because of the non-stationary nature of short-time frame price movements\n",
        "     * While this is not necessarily achievable, we can get a lot closer to imporve the performance\n",
        "\n"
      ],
      "metadata": {
        "id": "H_dFBfos_oIa"
      }
    },
    {
      "cell_type": "code",
      "source": [
        "# from statsmodels.graphics.tsaplots import plot_predict\n",
        "# from statsmodels.tsa.arima_process import arma_generate_sample\n",
        "# from statsmodels.tsa.arima.model import ARIMA\n",
        "\n",
        "np.random.seed(12345)\n",
        "\n",
        "arima_data = data.copy()\n",
        "arima_data = arima_data['mid_price']\n",
        "\n",
        "arima_split = 10\n",
        "\n",
        "arima_log = np.log(arima_data)\n",
        "\n",
        "rolling_mean_exp_decay = arima_log.ewm(halflife=12, min_periods=0, adjust=True).mean()\n",
        "arima_log_exp_decay = arima_log - rolling_mean_exp_decay\n",
        "arima_log_exp_decay.dropna(inplace=True)\n",
        "\n",
        "test_arima_data = arima_log_exp_decay.copy().iloc[-arima_split:]\n",
        "train_arima_data = arima_log_exp_decay.copy().iloc[:-arima_split]\n",
        "\n",
        "plt.style.use(\"cyberpunk\")\n",
        "plt.plot(arima_log_exp_decay)\n",
        "\n"
      ],
      "metadata": {
        "id": "73aZim2p_oWj",
        "colab": {
          "base_uri": "https://localhost:8080/",
          "height": 280
        },
        "outputId": "eb6898b6-1257-480a-c716-c6d738e0e245"
      },
      "execution_count": 8,
      "outputs": [
        {
          "output_type": "execute_result",
          "data": {
            "text/plain": [
              "[<matplotlib.lines.Line2D at 0x7fce5474e5e0>]"
            ]
          },
          "metadata": {},
          "execution_count": 8
        },
        {
          "output_type": "display_data",
          "data": {
            "text/plain": [
              "<Figure size 432x288 with 1 Axes>"
            ],
            "image/png": "[encoded data removed]"
          },
          "metadata": {}
        }
      ]
    },
    {
      "cell_type": "markdown",
      "source": [
        "As you can see above, this data is pretty stationary, and while not perfect it should be somewhat suitable for an ARIMA baseline model"
      ],
      "metadata": {
        "id": "oEqID9Y_Rczr"
      }
    },
    {
      "cell_type": "markdown",
      "source": [
        "### Arima Model Implementation"
      ],
      "metadata": {
        "id": "1liIL9U_R477"
      }
    },
    {
      "cell_type": "code",
      "source": [
        "from sktime.forecasting.arima import AutoARIMA\n",
        "arima_model = AutoARIMA(suppress_warnings=True)\n",
        "arima_model.fit(train_arima_data)"
      ],
      "metadata": {
        "colab": {
          "base_uri": "https://localhost:8080/"
        },
        "id": "kn6WFeE1YbzO",
        "outputId": "9aca530d-824a-4d95-c414-66c0599f23d7"
      },
      "execution_count": 9,
      "outputs": [
        {
          "output_type": "execute_result",
          "data": {
            "text/plain": [
              "AutoARIMA(suppress_warnings=True)"
            ]
          },
          "metadata": {},
          "execution_count": 9
        }
      ]
    },
    {
      "cell_type": "code",
      "source": [
        "arima_model.summary()"
      ],
      "metadata": {
        "colab": {
          "base_uri": "https://localhost:8080/",
          "height": 431
        },
        "id": "3zIef1m0iL0P",
        "outputId": "9f5b82cf-636b-42ba-ddea-51be781177a1"
      },
      "execution_count": 10,
      "outputs": [
        {
          "output_type": "execute_result",
          "data": {
            "text/plain": [
              "<class 'statsmodels.iolib.summary.Summary'>\n",
              "\"\"\"\n",
              "                               SARIMAX Results                                \n",
              "==============================================================================\n",
              "Dep. Variable:                      y   No. Observations:                 2354\n",
              "Model:               SARIMAX(1, 0, 1)   Log Likelihood               17875.631\n",
              "Date:                Sat, 07 Jan 2023   AIC                         -35745.263\n",
              "Time:                        05:35:40   BIC                         -35727.971\n",
              "Sample:                             0   HQIC                        -35738.966\n",
              "                               - 2354                                         \n",
              "Covariance Type:                  opg                                         \n",
              "==============================================================================\n",
              "                 coef    std err          z      P>|z|      [0.025      0.975]\n",
              "------------------------------------------------------------------------------\n",
              "ar.L1          0.9550   4.44e-20   2.15e+19      0.000       0.955       0.955\n",
              "ma.L1         -0.1209   3.56e-19   -3.4e+17      0.000      -0.121      -0.121\n",
              "sigma2      1.454e-08   7.55e-11    192.665      0.000    1.44e-08    1.47e-08\n",
              "===================================================================================\n",
              "Ljung-Box (L1) (Q):                   0.01   Jarque-Bera (JB):            373839.48\n",
              "Prob(Q):                              0.91   Prob(JB):                         0.00\n",
              "Heteroskedasticity (H):               0.88   Skew:                            -2.03\n",
              "Prob(H) (two-sided):                  0.08   Kurtosis:                        64.60\n",
              "===================================================================================\n",
              "\n",
              "Warnings:\n",
              "[1] Covariance matrix calculated using the outer product of gradients (complex-step).\n",
              "[2] Covariance matrix is singular or near-singular, with condition number 2.2e+33. Standard errors may be unstable.\n",
              "\"\"\""
            ],
            "text/html": [
              "<table class=\"simpletable\">\n",
              "<caption>SARIMAX Results</caption>\n",
              "<tr>\n",
              "  <th>Dep. Variable:</th>           <td>y</td>        <th>  No. Observations:  </th>    <td>2354</td>   \n",
              "</tr>\n",
              "<tr>\n",
              "  <th>Model:</th>           <td>SARIMAX(1, 0, 1)</td> <th>  Log Likelihood     </th>  <td>17875.631</td>\n",
              "</tr>\n",
              "<tr>\n",
              "  <th>Date:</th>            <td>Sat, 07 Jan 2023</td> <th>  AIC                </th> <td>-35745.263</td>\n",
              "</tr>\n",
              "<tr>\n",
              "  <th>Time:</th>                <td>05:35:40</td>     <th>  BIC                </th> <td>-35727.971</td>\n",
              "</tr>\n",
              "<tr>\n",
              "  <th>Sample:</th>                  <td>0</td>        <th>  HQIC               </th> <td>-35738.966</td>\n",
              "</tr>\n",
              "<tr>\n",
              "  <th></th>                      <td> - 2354</td>     <th>                     </th>      <td> </td>    \n",
              "</tr>\n",
              "<tr>\n",
              "  <th>Covariance Type:</th>        <td>opg</td>       <th>                     </th>      <td> </td>    \n",
              "</tr>\n",
              "</table>\n",
              "<table class=\"simpletable\">\n",
              "<tr>\n",
              "     <td></td>       <th>coef</th>     <th>std err</th>      <th>z</th>      <th>P>|z|</th>  <th>[0.025</th>    <th>0.975]</th>  \n",
              "</tr>\n",
              "<tr>\n",
              "  <th>ar.L1</th>  <td>    0.9550</td> <td> 4.44e-20</td> <td> 2.15e+19</td> <td> 0.000</td> <td>    0.955</td> <td>    0.955</td>\n",
              "</tr>\n",
              "<tr>\n",
              "  <th>ma.L1</th>  <td>   -0.1209</td> <td> 3.56e-19</td> <td> -3.4e+17</td> <td> 0.000</td> <td>   -0.121</td> <td>   -0.121</td>\n",
              "</tr>\n",
              "<tr>\n",
              "  <th>sigma2</th> <td> 1.454e-08</td> <td> 7.55e-11</td> <td>  192.665</td> <td> 0.000</td> <td> 1.44e-08</td> <td> 1.47e-08</td>\n",
              "</tr>\n",
              "</table>\n",
              "<table class=\"simpletable\">\n",
              "<tr>\n",
              "  <th>Ljung-Box (L1) (Q):</th>     <td>0.01</td> <th>  Jarque-Bera (JB):  </th> <td>373839.48</td>\n",
              "</tr>\n",
              "<tr>\n",
              "  <th>Prob(Q):</th>                <td>0.91</td> <th>  Prob(JB):          </th>   <td>0.00</td>   \n",
              "</tr>\n",
              "<tr>\n",
              "  <th>Heteroskedasticity (H):</th> <td>0.88</td> <th>  Skew:              </th>   <td>-2.03</td>  \n",
              "</tr>\n",
              "<tr>\n",
              "  <th>Prob(H) (two-sided):</th>    <td>0.08</td> <th>  Kurtosis:          </th>   <td>64.60</td>  \n",
              "</tr>\n",
              "</table><br/><br/>Warnings:<br/>[1] Covariance matrix calculated using the outer product of gradients (complex-step).<br/>[2] Covariance matrix is singular or near-singular, with condition number 2.2e+33. Standard errors may be unstable."
            ]
          },
          "metadata": {},
          "execution_count": 10
        }
      ]
    },
    {
      "cell_type": "code",
      "source": [
        "predictions = arima_model.predict(fh= np.arange(0,arima_split+1))\n",
        "predictions_arima_log = pd.Series(rolling_mean_exp_decay.iloc[-arima_split:])\n",
        "predictions_arima_log = predictions_arima_log.add(predictions)\n",
        "\n",
        "predictions = np.exp(predictions_arima_log)\n",
        "arima_predictions = predictions[1:]\n",
        "\n",
        "\n",
        "\n",
        "plt.style.use(\"cyberpunk\")\n",
        "plt.figure(figsize=(12, 8))\n",
        "(train1,) = plt.plot(exp_data[-(exp_split * 2):], marker=\"o\", color=\"white\")\n",
        "(actual,) = plt.plot(test_exp_data, marker = 'x', color = 'white')\n",
        "(line1,) = plt.plot(fcast1, marker=\"o\")\n",
        "(line2,) = plt.plot(fcast2, marker=\"o\")\n",
        "(line3,) = plt.plot(fcast3, marker=\"o\")\n",
        "(arima, ) = plt.plot(arima_predictions, marker=\"o\")\n",
        "\n",
        "plt.legend([train1, actual, line1, line2, line3, arima], ['Training', 'Actual Values', fcast1.name, fcast2.name, fcast3.name, 'ARIMA'])\n"
      ],
      "metadata": {
        "colab": {
          "base_uri": "https://localhost:8080/",
          "height": 497
        },
        "id": "D2aSG1HyYtxu",
        "outputId": "3cd1dbe8-0361-411d-d769-7f155eddc98f"
      },
      "execution_count": 46,
      "outputs": [
        {
          "output_type": "execute_result",
          "data": {
            "text/plain": [
              "<matplotlib.legend.Legend at 0x7fcde1221130>"
            ]
          },
          "metadata": {},
          "execution_count": 46
        },
        {
          "output_type": "display_data",
          "data": {
            "text/plain": [
              "<Figure size 864x576 with 1 Axes>"
            ],
            "image/png": "[encoded data removed]"
          },
          "metadata": {}
        }
      ]
    },
    {
      "cell_type": "markdown",
      "source": [
        "# XGBoost and LSTM Models"
      ],
      "metadata": {
        "id": "upBQii8XSYGA"
      }
    },
    {
      "cell_type": "markdown",
      "source": [
        "## LSTMs - Recursive Approach"
      ],
      "metadata": {
        "id": "3VugaGHSA9dM"
      }
    },
    {
      "cell_type": "markdown",
      "source": [
        "Intuitively, it might seem like adding a lag feature is NOT helpful. While LSTMs do use a look back algorithm that takes into account values from previous timesteps, using the lagged values as new features should produce better results.\n",
        "\n",
        "My reasoning for this is that using them as features, allows them to be utilized in vectors which uniquely weights them. Meaning that we can assign unique weights to just the column of lag over 3 steps rather than the LSTM "
      ],
      "metadata": {
        "id": "zNFZtESJCsfL"
      }
    },
    {
      "cell_type": "markdown",
      "source": [
        "### LSTM Data Preprocessing functions\n",
        "\n",
        "*   Squish price data for a [0,1] range\n",
        "*   Building lookbacks/sequences for an LSTM Model\n",
        "  *  LSTM models use sequences as inputs that have a shape in 3 dimensions - [batch size, sequence length, num features]"
      ],
      "metadata": {
        "id": "LCFnT8jT9NUm"
      }
    },
    {
      "cell_type": "code",
      "source": [
        "import sklearn\n",
        "from sklearn.preprocessing import MinMaxScaler\n",
        "from sklearn.metrics import mean_squared_error\n",
        "\n",
        "from keras.models import Sequential\n",
        "from keras.layers import Dense\n",
        "from keras.layers import LSTM\n",
        "\n",
        "#frame sequences as a supervised learning problem\n",
        "def timeseries_to_supervised(data, lag):\n",
        "  df = pd.DataFrame(data)\n",
        "  columns = [df.shift(i) for i in range(1, lag+1)]\n",
        "  columns.append(df)\n",
        "  df = pd.concat(columns, axis = 1)\n",
        "  return df\n",
        "\n",
        "#create a differenced sequence\n",
        "  #Calculate the difference, which will be shifted later\n",
        "def difference(df, interval = 1):\n",
        "  diff = list()\n",
        "  for i in range(interval, len(df)):\n",
        "    value = df[i] - df[i-interval]\n",
        "    diff.append(value)\n",
        "  return pd.Series(diff)\n",
        "\n",
        " #scale data using minmax scaler\n",
        "def scale_data(train, test):\n",
        "  scaler = MinMaxScaler(feature_range = (-1,1))\n",
        "  scaler = scaler.fit(np.array(train))\n",
        "\n",
        "  train = np.array(train).reshape(train.shape[0], train.shape[1])\n",
        "  train_scaled = scaler.transform(train)\n",
        "\n",
        "  test = np.array(test).reshape(test.shape[0], test.shape[1])\n",
        "  test_scaled = scaler.transform(test)\n",
        "\n",
        "  return scaler, train_scaled, test_scaled\n",
        "\n",
        "#invert differenced value\n",
        "def inverse_diff(history, yhat, interval = 1):\n",
        "  return yhat + history[-interval]\n",
        "\n",
        "def invert_scale(scaler, X, yhat):\n",
        "  new_row = [x for x in X] + [yhat]\n",
        "  array = np.array(new_row)\n",
        "  array = array.reshape(1, len(array))\n",
        "  inverted = scaler.inverse_transform(array)\n",
        "  return inverted[0,-1]\n",
        "\n",
        "def lookback_transformation(inputs, look_back): #incorporating lookback\n",
        "  X = []\n",
        "  for i in range(len(inputs) - look_back): #stop lookback(amount) before the total length\n",
        "    row = [r for r in inputs[i:i+look_back, :]] #where i is 0, the value is the first 5 timesteps, with all 20 features (so 100 features)\n",
        "    X.append(row)\n",
        "\n",
        "  return np.array(X)\n",
        "\n",
        "\n",
        "\n"
      ],
      "metadata": {
        "id": "MxwqYfaXcwm4"
      },
      "execution_count": 12,
      "outputs": []
    },
    {
      "cell_type": "markdown",
      "source": [
        "### LSTM Model\n",
        "\n",
        "\n",
        "*   Use lookback for the LSTM model\n",
        "*   Add a lag feature of 1 (Paper showing that with LSTMs, more lag is not really helpful)\n",
        "*   **Our expecation** are that this model will overfit. More specifically, it seems that LSTMs have a problem where they conform to the data based on previous values, causing what is essentially a \"shift\" in the prediction that basically just \n",
        "  * More on this: Autoregression problems (like price prediction) seem to perform poorly on LSTMs, combined with the issue above, it's unlikely to retrieve good results from an LSTM.\n",
        "* But I decided to use the LSTM anyways, because it seems to be a common model for time-series predictions \n",
        "\n"
      ],
      "metadata": {
        "id": "vTAlbJpEXTOx"
      }
    },
    {
      "cell_type": "code",
      "source": [
        "#some preprocessing\n",
        "data['timestamp'] = pd.to_datetime(data['timestamp'], format= '%m_%d_%Y,%H_%M_%S')\n",
        "data.set_axis(data['timestamp'], inplace = True)\n",
        "# data.drop(columns = ['timestamp'], inplace = True)"
      ],
      "metadata": {
        "id": "Fzsptn9XYARQ"
      },
      "execution_count": 13,
      "outputs": []
    },
    {
      "cell_type": "code",
      "source": [
        "data_lstm = data.copy().iloc[:]\n",
        "data_dropped = data_lstm.copy()[:].drop(['index','timestamp'],axis=1)\n",
        "\n",
        "data_dropped"
      ],
      "metadata": {
        "colab": {
          "base_uri": "https://localhost:8080/",
          "height": 866
        },
        "id": "P1m5BUw_cX6k",
        "outputId": "ab291f86-fb9a-4dc1-d719-ce6a39921c45"
      },
      "execution_count": 14,
      "outputs": [
        {
          "output_type": "execute_result",
          "data": {
            "text/plain": [
              "                     mid_price  bid_price  ask_price  bid_liq_.002  \\\n",
              "timestamp                                                            \n",
              "2022-12-26 01:20:08    16830.0    16850.0   16840.00  1.323464e+09   \n",
              "2022-12-26 01:20:18    16830.0    16850.0   16840.00  1.323464e+09   \n",
              "2022-12-26 01:21:41    16830.0    16850.0   16840.00  1.323464e+09   \n",
              "2022-12-26 01:22:11    16830.0    16850.0   16840.00  1.323464e+09   \n",
              "2022-12-26 01:22:41    16830.0    16850.0   16840.00  1.323464e+09   \n",
              "...                        ...        ...        ...           ...   \n",
              "2022-12-26 21:00:41    16882.5    16897.0   16889.75  6.754584e+10   \n",
              "2022-12-26 21:01:11    16882.5    16897.0   16889.75  6.753571e+10   \n",
              "2022-12-26 21:01:41    16882.5    16897.0   16889.75  6.753571e+10   \n",
              "2022-12-26 21:02:11    16882.5    16897.0   16889.75  6.753571e+10   \n",
              "2022-12-26 21:02:41    16882.5    16897.0   16889.75  6.753571e+10   \n",
              "\n",
              "                     bid_liq_.0033   bid_liq_.01   bid_liq_.03   bid_liq_.05  \\\n",
              "timestamp                                                                      \n",
              "2022-12-26 01:20:08   1.405543e+09  1.079406e+10  4.175698e+10  5.327345e+10   \n",
              "2022-12-26 01:20:18   1.405543e+09  1.079406e+10  4.175698e+10  5.327345e+10   \n",
              "2022-12-26 01:21:41   1.405543e+09  1.079406e+10  4.175698e+10  5.327345e+10   \n",
              "2022-12-26 01:22:11   1.405543e+09  1.079406e+10  4.175698e+10  5.327345e+10   \n",
              "2022-12-26 01:22:41   1.405543e+09  1.079406e+10  4.175698e+10  5.327345e+10   \n",
              "...                            ...           ...           ...           ...   \n",
              "2022-12-26 21:00:41   6.894599e+10  7.717633e+10  1.086895e+11  1.212712e+11   \n",
              "2022-12-26 21:01:11   6.893586e+10  7.716620e+10  1.086793e+11  1.212611e+11   \n",
              "2022-12-26 21:01:41   6.893586e+10  7.716620e+10  1.086793e+11  1.212611e+11   \n",
              "2022-12-26 21:02:11   6.893586e+10  7.716620e+10  1.086793e+11  1.212611e+11   \n",
              "2022-12-26 21:02:41   6.893586e+10  7.716620e+10  1.086793e+11  1.212611e+11   \n",
              "\n",
              "                     ask_liq_.002  ask_liq_.0033   ask_liq_.01   ask_liq_.03  \\\n",
              "timestamp                                                                      \n",
              "2022-12-26 01:20:08    27043650.0   1.428574e+09  1.015276e+10  4.871631e+10   \n",
              "2022-12-26 01:20:18    27043650.0   1.428574e+09  1.015276e+10  4.871631e+10   \n",
              "2022-12-26 01:21:41    27043650.0   1.428574e+09  1.015276e+10  4.871631e+10   \n",
              "2022-12-26 01:22:11    27043650.0   1.428574e+09  1.015276e+10  4.871631e+10   \n",
              "2022-12-26 01:22:41    27043650.0   1.428574e+09  1.015276e+10  4.871631e+10   \n",
              "...                           ...            ...           ...           ...   \n",
              "2022-12-26 21:00:41   130374300.0   1.540508e+09  4.702479e+09  4.325110e+10   \n",
              "2022-12-26 21:01:11   140512500.0   1.550646e+09  4.712617e+09  4.326124e+10   \n",
              "2022-12-26 21:01:41   140512300.0   1.550646e+09  4.712617e+09  4.326124e+10   \n",
              "2022-12-26 21:02:11   140512300.0   1.550646e+09  4.712617e+09  4.326124e+10   \n",
              "2022-12-26 21:02:41   140512200.0   1.550646e+09  4.712617e+09  4.326124e+10   \n",
              "\n",
              "                      ask_liq_.05  dir  spread  log_ret_ask  log_ret_bid  \\\n",
              "timestamp                                                                  \n",
              "2022-12-26 01:20:08  9.206687e+10    0  -10.00     0.000000     0.000000   \n",
              "2022-12-26 01:20:18  9.206687e+10    0  -10.00     0.000000     0.000000   \n",
              "2022-12-26 01:21:41  9.206687e+10    0  -10.00     0.000000     0.000000   \n",
              "2022-12-26 01:22:11  9.206687e+10    0  -10.00     0.000000     0.000000   \n",
              "2022-12-26 01:22:41  9.206687e+10    0  -10.00     0.000000     0.000000   \n",
              "...                           ...  ...     ...          ...          ...   \n",
              "2022-12-26 21:00:41  9.331184e+10    0   -7.25    -0.000044    -0.000089   \n",
              "2022-12-26 21:01:11  9.332198e+10    0   -7.25     0.000000     0.000000   \n",
              "2022-12-26 21:01:41  9.332198e+10    0   -7.25     0.000000     0.000000   \n",
              "2022-12-26 21:02:11  9.332198e+10    0   -7.25     0.000000     0.000000   \n",
              "2022-12-26 21:02:41  9.332198e+10    0   -7.25     0.000000     0.000000   \n",
              "\n",
              "                         sma           ema  \n",
              "timestamp                                   \n",
              "2022-12-26 01:20:08      0.0      0.000000  \n",
              "2022-12-26 01:20:18      0.0      0.000000  \n",
              "2022-12-26 01:21:41      0.0      0.000000  \n",
              "2022-12-26 01:22:11      0.0      0.000000  \n",
              "2022-12-26 01:22:41  16830.0  16830.000000  \n",
              "...                      ...           ...  \n",
              "2022-12-26 21:00:41  16882.4  16882.079848  \n",
              "2022-12-26 21:01:11  16882.5  16882.219899  \n",
              "2022-12-26 21:01:41  16882.5  16882.313266  \n",
              "2022-12-26 21:02:11  16882.5  16882.375511  \n",
              "2022-12-26 21:02:41  16882.5  16882.417007  \n",
              "\n",
              "[2364 rows x 19 columns]"
            ],
            "text/html": [
              "\n",
              "  <div id=\"df-02a6f987-aea9-4e81-a6c1-94ab84863f48\">\n",
              "    <div class=\"colab-df-container\">\n",
              "      <div>\n",
              "<style scoped>\n",
              "    .dataframe tbody tr th:only-of-type {\n",
              "        vertical-align: middle;\n",
              "    }\n",
              "\n",
              "    .dataframe tbody tr th {\n",
              "        vertical-align: top;\n",
              "    }\n",
              "\n",
              "    .dataframe thead th {\n",
              "        text-align: right;\n",
              "    }\n",
              "</style>\n",
              "<table border=\"1\" class=\"dataframe\">\n",
              "  <thead>\n",
              "    <tr style=\"text-align: right;\">\n",
              "      <th></th>\n",
              "      <th>mid_price</th>\n",
              "      <th>bid_price</th>\n",
              "      <th>ask_price</th>\n",
              "      <th>bid_liq_.002</th>\n",
              "      <th>bid_liq_.0033</th>\n",
              "      <th>bid_liq_.01</th>\n",
              "      <th>bid_liq_.03</th>\n",
              "      <th>bid_liq_.05</th>\n",
              "      <th>ask_liq_.002</th>\n",
              "      <th>ask_liq_.0033</th>\n",
              "      <th>ask_liq_.01</th>\n",
              "      <th>ask_liq_.03</th>\n",
              "      <th>ask_liq_.05</th>\n",
              "      <th>dir</th>\n",
              "      <th>spread</th>\n",
              "      <th>log_ret_ask</th>\n",
              "      <th>log_ret_bid</th>\n",
              "      <th>sma</th>\n",
              "      <th>ema</th>\n",
              "    </tr>\n",
              "    <tr>\n",
              "      <th>timestamp</th>\n",
              "      <th></th>\n",
              "      <th></th>\n",
              "      <th></th>\n",
              "      <th></th>\n",
              "      <th></th>\n",
              "      <th></th>\n",
              "      <th></th>\n",
              "      <th></th>\n",
              "      <th></th>\n",
              "      <th></th>\n",
              "      <th></th>\n",
              "      <th></th>\n",
              "      <th></th>\n",
              "      <th></th>\n",
              "      <th></th>\n",
              "      <th></th>\n",
              "      <th></th>\n",
              "      <th></th>\n",
              "      <th></th>\n",
              "    </tr>\n",
              "  </thead>\n",
              "  <tbody>\n",
              "    <tr>\n",
              "      <th>2022-12-26 01:20:08</th>\n",
              "      <td>16830.0</td>\n",
              "      <td>16850.0</td>\n",
              "      <td>16840.00</td>\n",
              "      <td>1.323464e+09</td>\n",
              "      <td>1.405543e+09</td>\n",
              "      <td>1.079406e+10</td>\n",
              "      <td>4.175698e+10</td>\n",
              "      <td>5.327345e+10</td>\n",
              "      <td>27043650.0</td>\n",
              "      <td>1.428574e+09</td>\n",
              "      <td>1.015276e+10</td>\n",
              "      <td>4.871631e+10</td>\n",
              "      <td>9.206687e+10</td>\n",
              "      <td>0</td>\n",
              "      <td>-10.00</td>\n",
              "      <td>0.000000</td>\n",
              "      <td>0.000000</td>\n",
              "      <td>0.0</td>\n",
              "      <td>0.000000</td>\n",
              "    </tr>\n",
              "    <tr>\n",
              "      <th>2022-12-26 01:20:18</th>\n",
              "      <td>16830.0</td>\n",
              "      <td>16850.0</td>\n",
              "      <td>16840.00</td>\n",
              "      <td>1.323464e+09</td>\n",
              "      <td>1.405543e+09</td>\n",
              "      <td>1.079406e+10</td>\n",
              "      <td>4.175698e+10</td>\n",
              "      <td>5.327345e+10</td>\n",
              "      <td>27043650.0</td>\n",
              "      <td>1.428574e+09</td>\n",
              "      <td>1.015276e+10</td>\n",
              "      <td>4.871631e+10</td>\n",
              "      <td>9.206687e+10</td>\n",
              "      <td>0</td>\n",
              "      <td>-10.00</td>\n",
              "      <td>0.000000</td>\n",
              "      <td>0.000000</td>\n",
              "      <td>0.0</td>\n",
              "      <td>0.000000</td>\n",
              "    </tr>\n",
              "    <tr>\n",
              "      <th>2022-12-26 01:21:41</th>\n",
              "      <td>16830.0</td>\n",
              "      <td>16850.0</td>\n",
              "      <td>16840.00</td>\n",
              "      <td>1.323464e+09</td>\n",
              "      <td>1.405543e+09</td>\n",
              "      <td>1.079406e+10</td>\n",
              "      <td>4.175698e+10</td>\n",
              "      <td>5.327345e+10</td>\n",
              "      <td>27043650.0</td>\n",
              "      <td>1.428574e+09</td>\n",
              "      <td>1.015276e+10</td>\n",
              "      <td>4.871631e+10</td>\n",
              "      <td>9.206687e+10</td>\n",
              "      <td>0</td>\n",
              "      <td>-10.00</td>\n",
              "      <td>0.000000</td>\n",
              "      <td>0.000000</td>\n",
              "      <td>0.0</td>\n",
              "      <td>0.000000</td>\n",
              "    </tr>\n",
              "    <tr>\n",
              "      <th>2022-12-26 01:22:11</th>\n",
              "      <td>16830.0</td>\n",
              "      <td>16850.0</td>\n",
              "      <td>16840.00</td>\n",
              "      <td>1.323464e+09</td>\n",
              "      <td>1.405543e+09</td>\n",
              "      <td>1.079406e+10</td>\n",
              "      <td>4.175698e+10</td>\n",
              "      <td>5.327345e+10</td>\n",
              "      <td>27043650.0</td>\n",
              "      <td>1.428574e+09</td>\n",
              "      <td>1.015276e+10</td>\n",
              "      <td>4.871631e+10</td>\n",
              "      <td>9.206687e+10</td>\n",
              "      <td>0</td>\n",
              "      <td>-10.00</td>\n",
              "      <td>0.000000</td>\n",
              "      <td>0.000000</td>\n",
              "      <td>0.0</td>\n",
              "      <td>0.000000</td>\n",
              "    </tr>\n",
              "    <tr>\n",
              "      <th>2022-12-26 01:22:41</th>\n",
              "      <td>16830.0</td>\n",
              "      <td>16850.0</td>\n",
              "      <td>16840.00</td>\n",
              "      <td>1.323464e+09</td>\n",
              "      <td>1.405543e+09</td>\n",
              "      <td>1.079406e+10</td>\n",
              "      <td>4.175698e+10</td>\n",
              "      <td>5.327345e+10</td>\n",
              "      <td>27043650.0</td>\n",
              "      <td>1.428574e+09</td>\n",
              "      <td>1.015276e+10</td>\n",
              "      <td>4.871631e+10</td>\n",
              "      <td>9.206687e+10</td>\n",
              "      <td>0</td>\n",
              "      <td>-10.00</td>\n",
              "      <td>0.000000</td>\n",
              "      <td>0.000000</td>\n",
              "      <td>16830.0</td>\n",
              "      <td>16830.000000</td>\n",
              "    </tr>\n",
              "    <tr>\n",
              "      <th>...</th>\n",
              "      <td>...</td>\n",
              "      <td>...</td>\n",
              "      <td>...</td>\n",
              "      <td>...</td>\n",
              "      <td>...</td>\n",
              "      <td>...</td>\n",
              "      <td>...</td>\n",
              "      <td>...</td>\n",
              "      <td>...</td>\n",
              "      <td>...</td>\n",
              "      <td>...</td>\n",
              "      <td>...</td>\n",
              "      <td>...</td>\n",
              "      <td>...</td>\n",
              "      <td>...</td>\n",
              "      <td>...</td>\n",
              "      <td>...</td>\n",
              "      <td>...</td>\n",
              "      <td>...</td>\n",
              "    </tr>\n",
              "    <tr>\n",
              "      <th>2022-12-26 21:00:41</th>\n",
              "      <td>16882.5</td>\n",
              "      <td>16897.0</td>\n",
              "      <td>16889.75</td>\n",
              "      <td>6.754584e+10</td>\n",
              "      <td>6.894599e+10</td>\n",
              "      <td>7.717633e+10</td>\n",
              "      <td>1.086895e+11</td>\n",
              "      <td>1.212712e+11</td>\n",
              "      <td>130374300.0</td>\n",
              "      <td>1.540508e+09</td>\n",
              "      <td>4.702479e+09</td>\n",
              "      <td>4.325110e+10</td>\n",
              "      <td>9.331184e+10</td>\n",
              "      <td>0</td>\n",
              "      <td>-7.25</td>\n",
              "      <td>-0.000044</td>\n",
              "      <td>-0.000089</td>\n",
              "      <td>16882.4</td>\n",
              "      <td>16882.079848</td>\n",
              "    </tr>\n",
              "    <tr>\n",
              "      <th>2022-12-26 21:01:11</th>\n",
              "      <td>16882.5</td>\n",
              "      <td>16897.0</td>\n",
              "      <td>16889.75</td>\n",
              "      <td>6.753571e+10</td>\n",
              "      <td>6.893586e+10</td>\n",
              "      <td>7.716620e+10</td>\n",
              "      <td>1.086793e+11</td>\n",
              "      <td>1.212611e+11</td>\n",
              "      <td>140512500.0</td>\n",
              "      <td>1.550646e+09</td>\n",
              "      <td>4.712617e+09</td>\n",
              "      <td>4.326124e+10</td>\n",
              "      <td>9.332198e+10</td>\n",
              "      <td>0</td>\n",
              "      <td>-7.25</td>\n",
              "      <td>0.000000</td>\n",
              "      <td>0.000000</td>\n",
              "      <td>16882.5</td>\n",
              "      <td>16882.219899</td>\n",
              "    </tr>\n",
              "    <tr>\n",
              "      <th>2022-12-26 21:01:41</th>\n",
              "      <td>16882.5</td>\n",
              "      <td>16897.0</td>\n",
              "      <td>16889.75</td>\n",
              "      <td>6.753571e+10</td>\n",
              "      <td>6.893586e+10</td>\n",
              "      <td>7.716620e+10</td>\n",
              "      <td>1.086793e+11</td>\n",
              "      <td>1.212611e+11</td>\n",
              "      <td>140512300.0</td>\n",
              "      <td>1.550646e+09</td>\n",
              "      <td>4.712617e+09</td>\n",
              "      <td>4.326124e+10</td>\n",
              "      <td>9.332198e+10</td>\n",
              "      <td>0</td>\n",
              "      <td>-7.25</td>\n",
              "      <td>0.000000</td>\n",
              "      <td>0.000000</td>\n",
              "      <td>16882.5</td>\n",
              "      <td>16882.313266</td>\n",
              "    </tr>\n",
              "    <tr>\n",
              "      <th>2022-12-26 21:02:11</th>\n",
              "      <td>16882.5</td>\n",
              "      <td>16897.0</td>\n",
              "      <td>16889.75</td>\n",
              "      <td>6.753571e+10</td>\n",
              "      <td>6.893586e+10</td>\n",
              "      <td>7.716620e+10</td>\n",
              "      <td>1.086793e+11</td>\n",
              "      <td>1.212611e+11</td>\n",
              "      <td>140512300.0</td>\n",
              "      <td>1.550646e+09</td>\n",
              "      <td>4.712617e+09</td>\n",
              "      <td>4.326124e+10</td>\n",
              "      <td>9.332198e+10</td>\n",
              "      <td>0</td>\n",
              "      <td>-7.25</td>\n",
              "      <td>0.000000</td>\n",
              "      <td>0.000000</td>\n",
              "      <td>16882.5</td>\n",
              "      <td>16882.375511</td>\n",
              "    </tr>\n",
              "    <tr>\n",
              "      <th>2022-12-26 21:02:41</th>\n",
              "      <td>16882.5</td>\n",
              "      <td>16897.0</td>\n",
              "      <td>16889.75</td>\n",
              "      <td>6.753571e+10</td>\n",
              "      <td>6.893586e+10</td>\n",
              "      <td>7.716620e+10</td>\n",
              "      <td>1.086793e+11</td>\n",
              "      <td>1.212611e+11</td>\n",
              "      <td>140512200.0</td>\n",
              "      <td>1.550646e+09</td>\n",
              "      <td>4.712617e+09</td>\n",
              "      <td>4.326124e+10</td>\n",
              "      <td>9.332198e+10</td>\n",
              "      <td>0</td>\n",
              "      <td>-7.25</td>\n",
              "      <td>0.000000</td>\n",
              "      <td>0.000000</td>\n",
              "      <td>16882.5</td>\n",
              "      <td>16882.417007</td>\n",
              "    </tr>\n",
              "  </tbody>\n",
              "</table>\n",
              "<p>2364 rows × 19 columns</p>\n",
              "</div>\n",
              "      <button class=\"colab-df-convert\" onclick=\"convertToInteractive('df-02a6f987-aea9-4e81-a6c1-94ab84863f48')\"\n",
              "              title=\"Convert this dataframe to an interactive table.\"\n",
              "              style=\"display:none;\">\n",
              "        \n",
              "  <svg xmlns=\"http://www.w3.org/2000/svg\" height=\"24px\"viewBox=\"0 0 24 24\"\n",
              "       width=\"24px\">\n",
              "    <path d=\"M0 0h24v24H0V0z\" fill=\"none\"/>\n",
              "    <path d=\"M18.56 5.44l.94 2.06.94-2.06 2.06-.94-2.06-.94-.94-2.06-.94 2.06-2.06.94zm-11 1L8.5 8.5l.94-2.06 2.06-.94-2.06-.94L8.5 2.5l-.94 2.06-2.06.94zm10 10l.94 2.06.94-2.06 2.06-.94-2.06-.94-.94-2.06-.94 2.06-2.06.94z\"/><path d=\"M17.41 7.96l-1.37-1.37c-.4-.4-.92-.59-1.43-.59-.52 0-1.04.2-1.43.59L10.3 9.45l-7.72 7.72c-.78.78-.78 2.05 0 2.83L4 21.41c.39.39.9.59 1.41.59.51 0 1.02-.2 1.41-.59l7.78-7.78 2.81-2.81c.8-.78.8-2.07 0-2.86zM5.41 20L4 18.59l7.72-7.72 1.47 1.35L5.41 20z\"/>\n",
              "  </svg>\n",
              "      </button>\n",
              "      \n",
              "  <style>\n",
              "    .colab-df-container {\n",
              "      display:flex;\n",
              "      flex-wrap:wrap;\n",
              "      gap: 12px;\n",
              "    }\n",
              "\n",
              "    .colab-df-convert {\n",
              "      background-color: #E8F0FE;\n",
              "      border: none;\n",
              "      border-radius: 50%;\n",
              "      cursor: pointer;\n",
              "      display: none;\n",
              "      fill: #1967D2;\n",
              "      height: 32px;\n",
              "      padding: 0 0 0 0;\n",
              "      width: 32px;\n",
              "    }\n",
              "\n",
              "    .colab-df-convert:hover {\n",
              "      background-color: #E2EBFA;\n",
              "      box-shadow: 0px 1px 2px rgba(60, 64, 67, 0.3), 0px 1px 3px 1px rgba(60, 64, 67, 0.15);\n",
              "      fill: #174EA6;\n",
              "    }\n",
              "\n",
              "    [theme=dark] .colab-df-convert {\n",
              "      background-color: #3B4455;\n",
              "      fill: #D2E3FC;\n",
              "    }\n",
              "\n",
              "    [theme=dark] .colab-df-convert:hover {\n",
              "      background-color: #434B5C;\n",
              "      box-shadow: 0px 1px 3px 1px rgba(0, 0, 0, 0.15);\n",
              "      filter: drop-shadow(0px 1px 2px rgba(0, 0, 0, 0.3));\n",
              "      fill: #FFFFFF;\n",
              "    }\n",
              "  </style>\n",
              "\n",
              "      <script>\n",
              "        const buttonEl =\n",
              "          document.querySelector('#df-02a6f987-aea9-4e81-a6c1-94ab84863f48 button.colab-df-convert');\n",
              "        buttonEl.style.display =\n",
              "          google.colab.kernel.accessAllowed ? 'block' : 'none';\n",
              "\n",
              "        async function convertToInteractive(key) {\n",
              "          const element = document.querySelector('#df-02a6f987-aea9-4e81-a6c1-94ab84863f48');\n",
              "          const dataTable =\n",
              "            await google.colab.kernel.invokeFunction('convertToInteractive',\n",
              "                                                     [key], {});\n",
              "          if (!dataTable) return;\n",
              "\n",
              "          const docLinkHtml = 'Like what you see? Visit the ' +\n",
              "            '<a target=\"_blank\" href=https://colab.research.google.com/notebooks/data_table.ipynb>data table notebook</a>'\n",
              "            + ' to learn more about interactive tables.';\n",
              "          element.innerHTML = '';\n",
              "          dataTable['output_type'] = 'display_data';\n",
              "          await google.colab.output.renderOutput(dataTable, element);\n",
              "          const docLink = document.createElement('div');\n",
              "          docLink.innerHTML = docLinkHtml;\n",
              "          element.appendChild(docLink);\n",
              "        }\n",
              "      </script>\n",
              "    </div>\n",
              "  </div>\n",
              "  "
            ]
          },
          "metadata": {},
          "execution_count": 14
        }
      ]
    },
    {
      "cell_type": "code",
      "source": [
        "#Transformation variables\n",
        "lag = 20\n",
        "split = 10\n",
        "look_back = 20"
      ],
      "metadata": {
        "id": "36qL1ctowJa0"
      },
      "execution_count": 15,
      "outputs": []
    },
    {
      "cell_type": "code",
      "source": [
        "data_diff = data_dropped.copy()\n",
        "#Calculate the values that we chose to shift (the return on the price)\n",
        "\n",
        "data_supervised = timeseries_to_supervised(data_diff, lag)\n",
        "\n",
        "data_supervised_values = data_supervised.values[lag:, :] # remove the number of rows = to the number of lag features\n",
        "\n",
        "train_data = data_supervised_values[:-split, :]\n",
        "test_data = data_supervised_values[-split:, :]\n",
        "\n",
        "#scale all our data to be between -1 and 1\n",
        "scaler, train_scaled, test_scaled = scale_data(train_data, test_data)"
      ],
      "metadata": {
        "id": "PypTQd-zIUaa"
      },
      "execution_count": 16,
      "outputs": []
    },
    {
      "cell_type": "code",
      "source": [
        "#split the data into inputs and outputs\n",
        "n_input = len(data_dropped.columns)\n",
        "\n",
        "train_x = train_scaled[:, :n_input*lag]\n",
        "#create a 3 dimensional input using lookback_transformation\n",
        "train_x = lookback_transformation(train_x, look_back)\n",
        "train_y = train_scaled[look_back:, n_input:]\n",
        "\n",
        "test_x = test_scaled[:, :n_input*lag]\n",
        "test_y = test_scaled[:, n_input:]\n",
        "\n",
        "print(train_x.shape, train_y.shape)"
      ],
      "metadata": {
        "id": "_4KfJI61O6_i",
        "colab": {
          "base_uri": "https://localhost:8080/"
        },
        "outputId": "8bb64156-dbee-43e8-cdcb-df1eba664bb7"
      },
      "execution_count": 17,
      "outputs": [
        {
          "output_type": "stream",
          "name": "stdout",
          "text": [
            "(2314, 20, 380) (2314, 380)\n"
          ]
        }
      ]
    },
    {
      "cell_type": "markdown",
      "source": [
        "Model Construction"
      ],
      "metadata": {
        "id": "cnUPVHqHZjDa"
      }
    },
    {
      "cell_type": "code",
      "source": [
        "import keras\n",
        "from keras.layers import LSTM, Dense, InputLayer, Dropout, Bidirectional\n",
        "import tensorflow as tf\n",
        "\n",
        "batch_size = 64 #ideally we would use 64, but beacuse this is a relatively small dataset, I reduced it\n",
        "n_epoch = 40\n",
        "validation = 0 #because this is such a short time frame and data is very stochastic, I found that using no validation set performed better on average\n",
        "                  #The problem I encoutered was not overfitting, but underfitting\n",
        "DROPOUT = 0.1\n",
        "seed = 42\n",
        "\n",
        "keras.utils.set_random_seed(seed) #For reproducible results\n"
      ],
      "metadata": {
        "id": "q83mMlMrayUB"
      },
      "execution_count": 18,
      "outputs": []
    },
    {
      "cell_type": "code",
      "source": [
        "def fit_lstm(X_train, y_train, batch_size, n_epoch, validation):\n",
        "  model = Sequential()\n",
        "  model.add(InputLayer((look_back,X_train.shape[2])))\n",
        "  model.add(Bidirectional(LSTM(128, activation = 'relu')))\n",
        "  model.add(Dense(64, 'relu'))\n",
        "  # model1.add(Dropout(rate = DROPOUT))\n",
        "  model.add(Dense(32, 'relu'))\n",
        "  # model1.add(Dropout(rate = DROPOUT))\n",
        "  model.add(Dense((19 * lag), 'linear'))\n",
        "  model.compile(loss='mean_squared_error', optimizer='adam')\n",
        "  model.fit(X_train, y_train, epochs= n_epoch, batch_size= batch_size ,validation_split = validation, verbose = 1)\n",
        "\n",
        "  return model\n",
        "\n",
        "\n",
        "model = fit_lstm(train_x, train_y, batch_size, n_epoch, validation)\n",
        "model.summary()"
      ],
      "metadata": {
        "colab": {
          "base_uri": "https://localhost:8080/"
        },
        "id": "LcvZlBKCSsfS",
        "outputId": "3f15a386-3831-4db0-9ef1-aab006ba42c4"
      },
      "execution_count": 19,
      "outputs": [
        {
          "output_type": "stream",
          "name": "stdout",
          "text": [
            "Epoch 1/40\n",
            "37/37 [==============================] - 8s 132ms/step - loss: 0.2727\n",
            "Epoch 2/40\n",
            "37/37 [==============================] - 5s 132ms/step - loss: 0.0728\n",
            "Epoch 3/40\n",
            "37/37 [==============================] - 7s 188ms/step - loss: 0.0459\n",
            "Epoch 4/40\n",
            "37/37 [==============================] - 5s 134ms/step - loss: 0.0376\n",
            "Epoch 5/40\n",
            "37/37 [==============================] - 5s 135ms/step - loss: 0.0341\n",
            "Epoch 6/40\n",
            "37/37 [==============================] - 5s 134ms/step - loss: 0.0316\n",
            "Epoch 7/40\n",
            "37/37 [==============================] - 5s 133ms/step - loss: 0.0292\n",
            "Epoch 8/40\n",
            "37/37 [==============================] - 5s 131ms/step - loss: 0.0270\n",
            "Epoch 9/40\n",
            "37/37 [==============================] - 5s 134ms/step - loss: 0.0260\n",
            "Epoch 10/40\n",
            "37/37 [==============================] - 5s 135ms/step - loss: 0.0251\n",
            "Epoch 11/40\n",
            "37/37 [==============================] - 8s 219ms/step - loss: 0.0240\n",
            "Epoch 12/40\n",
            "37/37 [==============================] - 5s 144ms/step - loss: 0.0230\n",
            "Epoch 13/40\n",
            "37/37 [==============================] - 5s 133ms/step - loss: 0.0220\n",
            "Epoch 14/40\n",
            "37/37 [==============================] - 6s 156ms/step - loss: 0.0213\n",
            "Epoch 15/40\n",
            "37/37 [==============================] - 5s 135ms/step - loss: 0.0205\n",
            "Epoch 16/40\n",
            "37/37 [==============================] - 7s 178ms/step - loss: 0.0199\n",
            "Epoch 17/40\n",
            "37/37 [==============================] - 6s 150ms/step - loss: 0.0192\n",
            "Epoch 18/40\n",
            "37/37 [==============================] - 8s 224ms/step - loss: 0.0186\n",
            "Epoch 19/40\n",
            "37/37 [==============================] - 10s 270ms/step - loss: 0.0181\n",
            "Epoch 20/40\n",
            "37/37 [==============================] - 6s 167ms/step - loss: 0.0178\n",
            "Epoch 21/40\n",
            "37/37 [==============================] - 5s 132ms/step - loss: 0.0174\n",
            "Epoch 22/40\n",
            "37/37 [==============================] - 5s 137ms/step - loss: 0.0169\n",
            "Epoch 23/40\n",
            "37/37 [==============================] - 7s 180ms/step - loss: 0.0165\n",
            "Epoch 24/40\n",
            "37/37 [==============================] - 5s 139ms/step - loss: 0.0161\n",
            "Epoch 25/40\n",
            "37/37 [==============================] - 5s 133ms/step - loss: 0.0158\n",
            "Epoch 26/40\n",
            "37/37 [==============================] - 5s 133ms/step - loss: 0.0154\n",
            "Epoch 27/40\n",
            "37/37 [==============================] - 5s 139ms/step - loss: 0.0151\n",
            "Epoch 28/40\n",
            "37/37 [==============================] - 5s 133ms/step - loss: 0.0148\n",
            "Epoch 29/40\n",
            "37/37 [==============================] - 5s 134ms/step - loss: 0.0146\n",
            "Epoch 30/40\n",
            "37/37 [==============================] - 5s 132ms/step - loss: 0.0143\n",
            "Epoch 31/40\n",
            "37/37 [==============================] - 5s 134ms/step - loss: 0.0141\n",
            "Epoch 32/40\n",
            "37/37 [==============================] - 5s 136ms/step - loss: 0.0139\n",
            "Epoch 33/40\n",
            "37/37 [==============================] - 5s 132ms/step - loss: 0.0138\n",
            "Epoch 34/40\n",
            "37/37 [==============================] - 5s 138ms/step - loss: 0.0138\n",
            "Epoch 35/40\n",
            "37/37 [==============================] - 5s 135ms/step - loss: 0.0136\n",
            "Epoch 36/40\n",
            "37/37 [==============================] - 5s 136ms/step - loss: 0.0133\n",
            "Epoch 37/40\n",
            "37/37 [==============================] - 5s 134ms/step - loss: 0.0132\n",
            "Epoch 38/40\n",
            "37/37 [==============================] - 5s 132ms/step - loss: 0.0131\n",
            "Epoch 39/40\n",
            "37/37 [==============================] - 5s 131ms/step - loss: 0.0130\n",
            "Epoch 40/40\n",
            "37/37 [==============================] - 5s 134ms/step - loss: 0.0129\n",
            "Model: \"sequential\"\n",
            "_________________________________________________________________\n",
            " Layer (type)                Output Shape              Param #   \n",
            "=================================================================\n",
            " bidirectional (Bidirectiona  (None, 256)              521216    \n",
            " l)                                                              \n",
            "                                                                 \n",
            " dense (Dense)               (None, 64)                16448     \n",
            "                                                                 \n",
            " dense_1 (Dense)             (None, 32)                2080      \n",
            "                                                                 \n",
            " dense_2 (Dense)             (None, 380)               12540     \n",
            "                                                                 \n",
            "=================================================================\n",
            "Total params: 552,284\n",
            "Trainable params: 552,284\n",
            "Non-trainable params: 0\n",
            "_________________________________________________________________\n"
          ]
        }
      ]
    },
    {
      "cell_type": "code",
      "source": [
        "#There is a limitation in sklearn that makes it so inverse_transform has to be used on the SAME shape\n",
        "#so instead, we redo the scaling function and get a new scaler object fitted on a 1 dimensional array to compare with the outputs\n",
        "scaler_inv, dummy, dummy1 = scale_data(np.array(train_data[:,0]).reshape(-1,1), np.array(train_data[:, 0]).reshape(-1,1))\n",
        "scaler_inv"
      ],
      "metadata": {
        "id": "LqILdz_Zcw7B",
        "colab": {
          "base_uri": "https://localhost:8080/"
        },
        "outputId": "045375ae-9064-4b85-bbec-d324b020281d"
      },
      "execution_count": 20,
      "outputs": [
        {
          "output_type": "execute_result",
          "data": {
            "text/plain": [
              "MinMaxScaler(feature_range=(-1, 1))"
            ]
          },
          "metadata": {},
          "execution_count": 20
        }
      ]
    },
    {
      "cell_type": "code",
      "source": [
        "def plot_train_predictions(model, X, y, scaler):\n",
        "  predictions = model.predict(X)\n",
        "  X_results = predictions[:,0] \n",
        "\n",
        "  predictions = list(scaler.inverse_transform(np.array(X_results).reshape(-1,1)))\n",
        "  actuals = list(scaler.inverse_transform(np.array(y).reshape(-1,1)))\n",
        "\n",
        "  df = pd.DataFrame(data = {'Predictions':predictions, 'Actuals':actuals})\n",
        "  plt.plot(df['Predictions'])\n",
        "  plt.plot(df['Actuals'])\n",
        "  plt.legend(['Predictions', 'Actuals'])\n",
        "\n",
        "  return df, mean_squared_error(y, predictions)\n",
        "\n",
        "df, mse = plot_train_predictions(model, train_x, train_y[:, 0], scaler_inv) \n",
        "\n"
      ],
      "metadata": {
        "colab": {
          "base_uri": "https://localhost:8080/",
          "height": 280
        },
        "id": "Op3SkYhPka-I",
        "outputId": "63164092-7c9e-4829-883f-4f282c91e3bf"
      },
      "execution_count": 21,
      "outputs": [
        {
          "output_type": "stream",
          "name": "stdout",
          "text": [
            "73/73 [==============================] - 3s 36ms/step\n"
          ]
        },
        {
          "output_type": "display_data",
          "data": {
            "text/plain": [
              "<Figure size 432x288 with 1 Axes>"
            ],
            "image/png": "[encoded data removed]"
          },
          "metadata": {}
        }
      ]
    },
    {
      "cell_type": "markdown",
      "source": [
        "### Recursive Predictions"
      ],
      "metadata": {
        "id": "_ULa0EuGgy2-"
      }
    },
    {
      "cell_type": "code",
      "source": [
        "data_diff = data_dropped.copy()\n",
        "#Calculate the values that we chose to shift (the return on the price)\n",
        "\n",
        "look_back = 10\n",
        "\n",
        "data_supervised = timeseries_to_supervised(data_diff, lag)\n",
        "\n",
        "data_supervised_values = data_supervised.values[lag:, :] # remove the number of rows = to the number of lag features\n",
        "\n",
        "train_data = data_supervised_values[:-split-look_back-1, :]\n",
        "test_data = data_supervised_values[-split-look_back-1:, :]\n",
        "\n",
        "#scale all our data to be between -1 and 1\n",
        "# scaler, train_scaled, test_scaled = scale_data(train_data, test_data)\n",
        "train_scaled = scaler.transform(train_data)\n",
        "test_scaled = scaler.transform(test_data)\n",
        "\n",
        "test_x = test_scaled[:, :n_input*lag]\n",
        "test_y = test_scaled[:, n_input*lag:]\n",
        "\n",
        "test_x.shape, test_y.shape"
      ],
      "metadata": {
        "colab": {
          "base_uri": "https://localhost:8080/"
        },
        "id": "CiDl3REiq8Q3",
        "outputId": "50db6699-f407-4e57-bde6-3d32f467ec45"
      },
      "execution_count": 22,
      "outputs": [
        {
          "output_type": "execute_result",
          "data": {
            "text/plain": [
              "((21, 380), (21, 19))"
            ]
          },
          "metadata": {},
          "execution_count": 22
        }
      ]
    },
    {
      "cell_type": "code",
      "source": [
        "def plot_recursive_predictions(model, X, y, scaler, num_predictions, look_back):\n",
        "\n",
        "  #now our test_x first value is the last value from the original training data (for us to make future predictions)\n",
        "  predictions = []\n",
        "  actuals = []\n",
        "\n",
        "  for i in range(num_predictions):\n",
        "    #create a 3 dimensional input using lookback_transformation\n",
        "    test_x = lookback_transformation(X, look_back)\n",
        "    # print(test_x.shape)\n",
        "    test_x = test_x[-1].reshape(1, look_back, -1)\n",
        "    # print(test_x.shape)\n",
        "\n",
        "\n",
        "    model_output = model.predict(test_x)\n",
        "    predictions.append(model_output[:,0])\n",
        "\n",
        "    X = np.vstack((X, model_output.reshape(1, -1)))\n",
        "    actuals.append(y[i])\n",
        "\n",
        "  predictions = list(scaler.inverse_transform(np.array(predictions).reshape(-1,1)))\n",
        "\n",
        "  predictions =[np.round(x, 2) for x in predictions]\n",
        "  actuals =[np.round(x, 2) for x in actuals]\n",
        "\n",
        "  df = pd.DataFrame(data = {'Predictions':predictions, 'Actuals':actuals})\n",
        "  plt.plot(df['Predictions'])\n",
        "  plt.plot(df['Actuals'])\n",
        "  plt.legend(['Predictions', 'Actuals'])\n",
        "  # plt.ylim([16820, 16840])\n",
        "  return df, mean_squared_error(actuals, predictions)\n",
        "\n",
        "train_x = train_scaled[:, :n_input*lag]\n",
        "test_y = data_supervised_values[-split:, 0]\n",
        "\n",
        "df, mse = plot_recursive_predictions(model, train_x, test_y, scaler_inv, split, look_back) "
      ],
      "metadata": {
        "colab": {
          "base_uri": "https://localhost:8080/",
          "height": 447
        },
        "id": "4pCz32lrOWd0",
        "outputId": "cc493576-3e66-4227-d8e8-1c97463cd521"
      },
      "execution_count": 23,
      "outputs": [
        {
          "output_type": "stream",
          "name": "stdout",
          "text": [
            "1/1 [==============================] - 0s 432ms/step\n",
            "1/1 [==============================] - 0s 23ms/step\n",
            "1/1 [==============================] - 0s 21ms/step\n",
            "1/1 [==============================] - 0s 21ms/step\n",
            "1/1 [==============================] - 0s 20ms/step\n",
            "1/1 [==============================] - 0s 22ms/step\n",
            "1/1 [==============================] - 0s 25ms/step\n",
            "1/1 [==============================] - 0s 24ms/step\n",
            "1/1 [==============================] - 0s 21ms/step\n",
            "1/1 [==============================] - 0s 20ms/step\n"
          ]
        },
        {
          "output_type": "display_data",
          "data": {
            "text/plain": [
              "<Figure size 432x288 with 1 Axes>"
            ],
            "image/png": "[encoded data removed]"
          },
          "metadata": {}
        }
      ]
    },
    {
      "cell_type": "code",
      "source": [
        "# plt.style.use(\"cyberpunk\")\n",
        "# plt.figure(figsize=(12, 8))\n",
        "# (actual,) = plt.plot(test_exp_data, marker = 'x', color = 'white')\n",
        "# (lstm, ) = plt.plot()\n",
        "\n",
        "# plt.legend([train1, actual, line1, line2, line3, arima], ['Training', 'Actual Values', fcast1.name, fcast2.name, fcast3.name, 'ARIMA'])\n",
        "lstm_predictions = df.iloc[:, 0]\n",
        "mean_squared_error(df.iloc[:, 1], lstm_predictions)"
      ],
      "metadata": {
        "id": "7FD2uJ7vZxF0",
        "colab": {
          "base_uri": "https://localhost:8080/"
        },
        "outputId": "8709c7dc-f39e-4bd4-feae-d6dec4437541"
      },
      "execution_count": 24,
      "outputs": [
        {
          "output_type": "execute_result",
          "data": {
            "text/plain": [
              "1.7079090118408202"
            ]
          },
          "metadata": {},
          "execution_count": 24
        }
      ]
    },
    {
      "cell_type": "markdown",
      "source": [
        "## XGBoost Model - Direct Approach\n",
        "\n",
        "*   We want to treat this as an auto-regression problem, meaning that we DO NOT want to feed future data into the model when making predictions, BUT we do want to predict for many timesteps out...\n",
        "*   We also have a multi-variate dataset, meaning that the inputs we have for each prediction, are really predictions in themselves, and might need to be predicted as well\n",
        "*   In order to do this, there are a few main methods that might work I found:\n",
        "\n",
        " 1.   Using AutoRegression (or other regression based predictions) to predict univariate values which would be fed into our model for making predictions\n",
        " 2.   Direct Approach: Fit the regressor for each time point we want to predict. This is essentially its own model per timestep we want to predict.\n",
        " 3.   Recursive Approach:  Wrap the XGboost with Scikit Learn's MultiOutputRegressor() to get multiple outputs by creating clusters of models that actually predict values individually at each timestep based on the previous value. And then a larger model that predicts the value we actually are focused on (bid/ask price). Rinse & Repeat.\n",
        "\n",
        "\n",
        "\n"
      ],
      "metadata": {
        "id": "1kPDvC-sBA8c"
      }
    },
    {
      "cell_type": "markdown",
      "source": [
        "The first option doesn't seem great to me, especially on short-time frames, as the AutoRegression model works on very cyclical data but I don't think we have enough data collected to rely on it very well.\n"
      ],
      "metadata": {
        "id": "xUFyJh-Wfa0C"
      }
    },
    {
      "cell_type": "markdown",
      "source": [
        "### Boosted Tree Data Preprocessing"
      ],
      "metadata": {
        "id": "iqbbf5ktAgR6"
      }
    },
    {
      "cell_type": "code",
      "source": [
        "xgb_data = data.copy().iloc[:]\n",
        "xgb_data['timestamp'] = pd.to_datetime(xgb_data['timestamp'], format= '%m_%d_%Y,%H_%M_%S')\n",
        "xgb_data.drop(columns = ['timestamp'], inplace = True)\n",
        "xgb_data.drop(columns = ['index', 'bid_liq_.01', 'bid_liq_.03', 'bid_liq_.05', 'ask_liq_.01', 'ask_liq_.01', 'ask_liq_.03', 'ask_liq_.05', 'spread', 'sma'], inplace = True)\n",
        "\n",
        "xgb_data"
      ],
      "metadata": {
        "id": "SLmNQ0USAkYN",
        "colab": {
          "base_uri": "https://localhost:8080/",
          "height": 455
        },
        "outputId": "086e94a1-1755-4094-8e83-331a5a0f9eb4"
      },
      "execution_count": 25,
      "outputs": [
        {
          "output_type": "execute_result",
          "data": {
            "text/plain": [
              "                     mid_price  bid_price  ask_price  bid_liq_.002  \\\n",
              "timestamp                                                            \n",
              "2022-12-26 01:20:08    16830.0    16850.0   16840.00  1.323464e+09   \n",
              "2022-12-26 01:20:18    16830.0    16850.0   16840.00  1.323464e+09   \n",
              "2022-12-26 01:21:41    16830.0    16850.0   16840.00  1.323464e+09   \n",
              "2022-12-26 01:22:11    16830.0    16850.0   16840.00  1.323464e+09   \n",
              "2022-12-26 01:22:41    16830.0    16850.0   16840.00  1.323464e+09   \n",
              "...                        ...        ...        ...           ...   \n",
              "2022-12-26 21:00:41    16882.5    16897.0   16889.75  6.754584e+10   \n",
              "2022-12-26 21:01:11    16882.5    16897.0   16889.75  6.753571e+10   \n",
              "2022-12-26 21:01:41    16882.5    16897.0   16889.75  6.753571e+10   \n",
              "2022-12-26 21:02:11    16882.5    16897.0   16889.75  6.753571e+10   \n",
              "2022-12-26 21:02:41    16882.5    16897.0   16889.75  6.753571e+10   \n",
              "\n",
              "                     bid_liq_.0033  ask_liq_.002  ask_liq_.0033  dir  \\\n",
              "timestamp                                                              \n",
              "2022-12-26 01:20:08   1.405543e+09    27043650.0   1.428574e+09    0   \n",
              "2022-12-26 01:20:18   1.405543e+09    27043650.0   1.428574e+09    0   \n",
              "2022-12-26 01:21:41   1.405543e+09    27043650.0   1.428574e+09    0   \n",
              "2022-12-26 01:22:11   1.405543e+09    27043650.0   1.428574e+09    0   \n",
              "2022-12-26 01:22:41   1.405543e+09    27043650.0   1.428574e+09    0   \n",
              "...                            ...           ...            ...  ...   \n",
              "2022-12-26 21:00:41   6.894599e+10   130374300.0   1.540508e+09    0   \n",
              "2022-12-26 21:01:11   6.893586e+10   140512500.0   1.550646e+09    0   \n",
              "2022-12-26 21:01:41   6.893586e+10   140512300.0   1.550646e+09    0   \n",
              "2022-12-26 21:02:11   6.893586e+10   140512300.0   1.550646e+09    0   \n",
              "2022-12-26 21:02:41   6.893586e+10   140512200.0   1.550646e+09    0   \n",
              "\n",
              "                     log_ret_ask  log_ret_bid           ema  \n",
              "timestamp                                                    \n",
              "2022-12-26 01:20:08     0.000000     0.000000      0.000000  \n",
              "2022-12-26 01:20:18     0.000000     0.000000      0.000000  \n",
              "2022-12-26 01:21:41     0.000000     0.000000      0.000000  \n",
              "2022-12-26 01:22:11     0.000000     0.000000      0.000000  \n",
              "2022-12-26 01:22:41     0.000000     0.000000  16830.000000  \n",
              "...                          ...          ...           ...  \n",
              "2022-12-26 21:00:41    -0.000044    -0.000089  16882.079848  \n",
              "2022-12-26 21:01:11     0.000000     0.000000  16882.219899  \n",
              "2022-12-26 21:01:41     0.000000     0.000000  16882.313266  \n",
              "2022-12-26 21:02:11     0.000000     0.000000  16882.375511  \n",
              "2022-12-26 21:02:41     0.000000     0.000000  16882.417007  \n",
              "\n",
              "[2364 rows x 11 columns]"
            ],
            "text/html": [
              "\n",
              "  <div id=\"df-1996df26-5064-4e15-bda7-8852f1dada33\">\n",
              "    <div class=\"colab-df-container\">\n",
              "      <div>\n",
              "<style scoped>\n",
              "    .dataframe tbody tr th:only-of-type {\n",
              "        vertical-align: middle;\n",
              "    }\n",
              "\n",
              "    .dataframe tbody tr th {\n",
              "        vertical-align: top;\n",
              "    }\n",
              "\n",
              "    .dataframe thead th {\n",
              "        text-align: right;\n",
              "    }\n",
              "</style>\n",
              "<table border=\"1\" class=\"dataframe\">\n",
              "  <thead>\n",
              "    <tr style=\"text-align: right;\">\n",
              "      <th></th>\n",
              "      <th>mid_price</th>\n",
              "      <th>bid_price</th>\n",
              "      <th>ask_price</th>\n",
              "      <th>bid_liq_.002</th>\n",
              "      <th>bid_liq_.0033</th>\n",
              "      <th>ask_liq_.002</th>\n",
              "      <th>ask_liq_.0033</th>\n",
              "      <th>dir</th>\n",
              "      <th>log_ret_ask</th>\n",
              "      <th>log_ret_bid</th>\n",
              "      <th>ema</th>\n",
              "    </tr>\n",
              "    <tr>\n",
              "      <th>timestamp</th>\n",
              "      <th></th>\n",
              "      <th></th>\n",
              "      <th></th>\n",
              "      <th></th>\n",
              "      <th></th>\n",
              "      <th></th>\n",
              "      <th></th>\n",
              "      <th></th>\n",
              "      <th></th>\n",
              "      <th></th>\n",
              "      <th></th>\n",
              "    </tr>\n",
              "  </thead>\n",
              "  <tbody>\n",
              "    <tr>\n",
              "      <th>2022-12-26 01:20:08</th>\n",
              "      <td>16830.0</td>\n",
              "      <td>16850.0</td>\n",
              "      <td>16840.00</td>\n",
              "      <td>1.323464e+09</td>\n",
              "      <td>1.405543e+09</td>\n",
              "      <td>27043650.0</td>\n",
              "      <td>1.428574e+09</td>\n",
              "      <td>0</td>\n",
              "      <td>0.000000</td>\n",
              "      <td>0.000000</td>\n",
              "      <td>0.000000</td>\n",
              "    </tr>\n",
              "    <tr>\n",
              "      <th>2022-12-26 01:20:18</th>\n",
              "      <td>16830.0</td>\n",
              "      <td>16850.0</td>\n",
              "      <td>16840.00</td>\n",
              "      <td>1.323464e+09</td>\n",
              "      <td>1.405543e+09</td>\n",
              "      <td>27043650.0</td>\n",
              "      <td>1.428574e+09</td>\n",
              "      <td>0</td>\n",
              "      <td>0.000000</td>\n",
              "      <td>0.000000</td>\n",
              "      <td>0.000000</td>\n",
              "    </tr>\n",
              "    <tr>\n",
              "      <th>2022-12-26 01:21:41</th>\n",
              "      <td>16830.0</td>\n",
              "      <td>16850.0</td>\n",
              "      <td>16840.00</td>\n",
              "      <td>1.323464e+09</td>\n",
              "      <td>1.405543e+09</td>\n",
              "      <td>27043650.0</td>\n",
              "      <td>1.428574e+09</td>\n",
              "      <td>0</td>\n",
              "      <td>0.000000</td>\n",
              "      <td>0.000000</td>\n",
              "      <td>0.000000</td>\n",
              "    </tr>\n",
              "    <tr>\n",
              "      <th>2022-12-26 01:22:11</th>\n",
              "      <td>16830.0</td>\n",
              "      <td>16850.0</td>\n",
              "      <td>16840.00</td>\n",
              "      <td>1.323464e+09</td>\n",
              "      <td>1.405543e+09</td>\n",
              "      <td>27043650.0</td>\n",
              "      <td>1.428574e+09</td>\n",
              "      <td>0</td>\n",
              "      <td>0.000000</td>\n",
              "      <td>0.000000</td>\n",
              "      <td>0.000000</td>\n",
              "    </tr>\n",
              "    <tr>\n",
              "      <th>2022-12-26 01:22:41</th>\n",
              "      <td>16830.0</td>\n",
              "      <td>16850.0</td>\n",
              "      <td>16840.00</td>\n",
              "      <td>1.323464e+09</td>\n",
              "      <td>1.405543e+09</td>\n",
              "      <td>27043650.0</td>\n",
              "      <td>1.428574e+09</td>\n",
              "      <td>0</td>\n",
              "      <td>0.000000</td>\n",
              "      <td>0.000000</td>\n",
              "      <td>16830.000000</td>\n",
              "    </tr>\n",
              "    <tr>\n",
              "      <th>...</th>\n",
              "      <td>...</td>\n",
              "      <td>...</td>\n",
              "      <td>...</td>\n",
              "      <td>...</td>\n",
              "      <td>...</td>\n",
              "      <td>...</td>\n",
              "      <td>...</td>\n",
              "      <td>...</td>\n",
              "      <td>...</td>\n",
              "      <td>...</td>\n",
              "      <td>...</td>\n",
              "    </tr>\n",
              "    <tr>\n",
              "      <th>2022-12-26 21:00:41</th>\n",
              "      <td>16882.5</td>\n",
              "      <td>16897.0</td>\n",
              "      <td>16889.75</td>\n",
              "      <td>6.754584e+10</td>\n",
              "      <td>6.894599e+10</td>\n",
              "      <td>130374300.0</td>\n",
              "      <td>1.540508e+09</td>\n",
              "      <td>0</td>\n",
              "      <td>-0.000044</td>\n",
              "      <td>-0.000089</td>\n",
              "      <td>16882.079848</td>\n",
              "    </tr>\n",
              "    <tr>\n",
              "      <th>2022-12-26 21:01:11</th>\n",
              "      <td>16882.5</td>\n",
              "      <td>16897.0</td>\n",
              "      <td>16889.75</td>\n",
              "      <td>6.753571e+10</td>\n",
              "      <td>6.893586e+10</td>\n",
              "      <td>140512500.0</td>\n",
              "      <td>1.550646e+09</td>\n",
              "      <td>0</td>\n",
              "      <td>0.000000</td>\n",
              "      <td>0.000000</td>\n",
              "      <td>16882.219899</td>\n",
              "    </tr>\n",
              "    <tr>\n",
              "      <th>2022-12-26 21:01:41</th>\n",
              "      <td>16882.5</td>\n",
              "      <td>16897.0</td>\n",
              "      <td>16889.75</td>\n",
              "      <td>6.753571e+10</td>\n",
              "      <td>6.893586e+10</td>\n",
              "      <td>140512300.0</td>\n",
              "      <td>1.550646e+09</td>\n",
              "      <td>0</td>\n",
              "      <td>0.000000</td>\n",
              "      <td>0.000000</td>\n",
              "      <td>16882.313266</td>\n",
              "    </tr>\n",
              "    <tr>\n",
              "      <th>2022-12-26 21:02:11</th>\n",
              "      <td>16882.5</td>\n",
              "      <td>16897.0</td>\n",
              "      <td>16889.75</td>\n",
              "      <td>6.753571e+10</td>\n",
              "      <td>6.893586e+10</td>\n",
              "      <td>140512300.0</td>\n",
              "      <td>1.550646e+09</td>\n",
              "      <td>0</td>\n",
              "      <td>0.000000</td>\n",
              "      <td>0.000000</td>\n",
              "      <td>16882.375511</td>\n",
              "    </tr>\n",
              "    <tr>\n",
              "      <th>2022-12-26 21:02:41</th>\n",
              "      <td>16882.5</td>\n",
              "      <td>16897.0</td>\n",
              "      <td>16889.75</td>\n",
              "      <td>6.753571e+10</td>\n",
              "      <td>6.893586e+10</td>\n",
              "      <td>140512200.0</td>\n",
              "      <td>1.550646e+09</td>\n",
              "      <td>0</td>\n",
              "      <td>0.000000</td>\n",
              "      <td>0.000000</td>\n",
              "      <td>16882.417007</td>\n",
              "    </tr>\n",
              "  </tbody>\n",
              "</table>\n",
              "<p>2364 rows × 11 columns</p>\n",
              "</div>\n",
              "      <button class=\"colab-df-convert\" onclick=\"convertToInteractive('df-1996df26-5064-4e15-bda7-8852f1dada33')\"\n",
              "              title=\"Convert this dataframe to an interactive table.\"\n",
              "              style=\"display:none;\">\n",
              "        \n",
              "  <svg xmlns=\"http://www.w3.org/2000/svg\" height=\"24px\"viewBox=\"0 0 24 24\"\n",
              "       width=\"24px\">\n",
              "    <path d=\"M0 0h24v24H0V0z\" fill=\"none\"/>\n",
              "    <path d=\"M18.56 5.44l.94 2.06.94-2.06 2.06-.94-2.06-.94-.94-2.06-.94 2.06-2.06.94zm-11 1L8.5 8.5l.94-2.06 2.06-.94-2.06-.94L8.5 2.5l-.94 2.06-2.06.94zm10 10l.94 2.06.94-2.06 2.06-.94-2.06-.94-.94-2.06-.94 2.06-2.06.94z\"/><path d=\"M17.41 7.96l-1.37-1.37c-.4-.4-.92-.59-1.43-.59-.52 0-1.04.2-1.43.59L10.3 9.45l-7.72 7.72c-.78.78-.78 2.05 0 2.83L4 21.41c.39.39.9.59 1.41.59.51 0 1.02-.2 1.41-.59l7.78-7.78 2.81-2.81c.8-.78.8-2.07 0-2.86zM5.41 20L4 18.59l7.72-7.72 1.47 1.35L5.41 20z\"/>\n",
              "  </svg>\n",
              "      </button>\n",
              "      \n",
              "  <style>\n",
              "    .colab-df-container {\n",
              "      display:flex;\n",
              "      flex-wrap:wrap;\n",
              "      gap: 12px;\n",
              "    }\n",
              "\n",
              "    .colab-df-convert {\n",
              "      background-color: #E8F0FE;\n",
              "      border: none;\n",
              "      border-radius: 50%;\n",
              "      cursor: pointer;\n",
              "      display: none;\n",
              "      fill: #1967D2;\n",
              "      height: 32px;\n",
              "      padding: 0 0 0 0;\n",
              "      width: 32px;\n",
              "    }\n",
              "\n",
              "    .colab-df-convert:hover {\n",
              "      background-color: #E2EBFA;\n",
              "      box-shadow: 0px 1px 2px rgba(60, 64, 67, 0.3), 0px 1px 3px 1px rgba(60, 64, 67, 0.15);\n",
              "      fill: #174EA6;\n",
              "    }\n",
              "\n",
              "    [theme=dark] .colab-df-convert {\n",
              "      background-color: #3B4455;\n",
              "      fill: #D2E3FC;\n",
              "    }\n",
              "\n",
              "    [theme=dark] .colab-df-convert:hover {\n",
              "      background-color: #434B5C;\n",
              "      box-shadow: 0px 1px 3px 1px rgba(0, 0, 0, 0.15);\n",
              "      filter: drop-shadow(0px 1px 2px rgba(0, 0, 0, 0.3));\n",
              "      fill: #FFFFFF;\n",
              "    }\n",
              "  </style>\n",
              "\n",
              "      <script>\n",
              "        const buttonEl =\n",
              "          document.querySelector('#df-1996df26-5064-4e15-bda7-8852f1dada33 button.colab-df-convert');\n",
              "        buttonEl.style.display =\n",
              "          google.colab.kernel.accessAllowed ? 'block' : 'none';\n",
              "\n",
              "        async function convertToInteractive(key) {\n",
              "          const element = document.querySelector('#df-1996df26-5064-4e15-bda7-8852f1dada33');\n",
              "          const dataTable =\n",
              "            await google.colab.kernel.invokeFunction('convertToInteractive',\n",
              "                                                     [key], {});\n",
              "          if (!dataTable) return;\n",
              "\n",
              "          const docLinkHtml = 'Like what you see? Visit the ' +\n",
              "            '<a target=\"_blank\" href=https://colab.research.google.com/notebooks/data_table.ipynb>data table notebook</a>'\n",
              "            + ' to learn more about interactive tables.';\n",
              "          element.innerHTML = '';\n",
              "          dataTable['output_type'] = 'display_data';\n",
              "          await google.colab.output.renderOutput(dataTable, element);\n",
              "          const docLink = document.createElement('div');\n",
              "          docLink.innerHTML = docLinkHtml;\n",
              "          element.appendChild(docLink);\n",
              "        }\n",
              "      </script>\n",
              "    </div>\n",
              "  </div>\n",
              "  "
            ]
          },
          "metadata": {},
          "execution_count": 25
        }
      ]
    },
    {
      "cell_type": "code",
      "source": [
        " #scale data using minmax scaler\n",
        "def scale_data(train, test):\n",
        "  scaler = MinMaxScaler(feature_range = (-1,1))\n",
        "  scaler = scaler.fit(np.array(train))\n",
        "\n",
        "  train = np.array(train).reshape(train.shape[0], train.shape[1])\n",
        "  train_scaled = scaler.transform(train)\n",
        "\n",
        "  test = np.array(test).reshape(test.shape[0], test.shape[1])\n",
        "  test_scaled = scaler.transform(test)\n",
        "\n",
        "  return scaler, train_scaled, test_scaled\n",
        "\n",
        "def invert_scale(scaler, X, yhat):\n",
        "  new_row = [x for x in X] + [yhat]\n",
        "  array = np.array(new_row)\n",
        "  array = array.reshape(1, len(array))\n",
        "  inverted = scaler.inverse_transform(array)\n",
        "  return inverted[0,-1]"
      ],
      "metadata": {
        "id": "QOhafDpbYtSE"
      },
      "execution_count": 26,
      "outputs": []
    },
    {
      "cell_type": "code",
      "source": [
        "#frame sequences as a supervised learning problem\n",
        "def timeseries_to_supervised(data, lag = 1):\n",
        "  df = data\n",
        "  columns = [df.shift(i) for i in range(1, lag+1)]\n",
        "  df = df.rename(columns = {'mid_price': 'label_mid_price'})\n",
        "  columns.append(df['label_mid_price'])\n",
        "  df = pd.concat(columns, axis = 1)\n",
        "  return df\n",
        "\n",
        "def label_data(data, features):\n",
        "  #create \"labelled\" data\n",
        "  supervised_data = timeseries_to_supervised(data, features)\n",
        "\n",
        "  # remove the number of rows = to the number of lag features\n",
        "  supervised_values = supervised_data.iloc[features:, :] \n",
        "\n",
        "  return supervised_values\n",
        "\n",
        "def split_data(data_X, data_y, split):\n",
        "  #train test split\n",
        "  train_X, train_y = data_X.iloc[0:-split, :], data_y[0:-split]\n",
        "  test_X, test_y = data_X.iloc[-split, :], data_y[-split:]\n",
        "\n",
        "  return train_X, train_y, test_X, test_y\n",
        "\n",
        "def make_direct_datasets(data, prediction_horizon):\n",
        "  #Conduct Direct predictions\n",
        "  direct_dataset_X = data.copy().drop(columns = ['label_mid_price'])\n",
        "  direct_dataset_X.columns = pd.io.parsers.base_parser.ParserBase({'names':direct_dataset_X.columns, 'usecols':None})._maybe_dedup_names(direct_dataset_X.columns)\n",
        "\n",
        "  direct_datasets_y = []\n",
        "  for i in range(prediction_horizon):\n",
        "    df = data.copy()\n",
        "    label = df.label_mid_price.shift(-(i))\n",
        "    y = label\n",
        "\n",
        "    direct_datasets_y.append(y)\n",
        "\n",
        "  return direct_dataset_X, direct_datasets_y\n"
      ],
      "metadata": {
        "id": "Nk7MuhlPhFkt"
      },
      "execution_count": 27,
      "outputs": []
    },
    {
      "cell_type": "markdown",
      "source": [
        "Unlike the LSTM, we do not need to scale or normalize our data because XGBoost is an ensemble of many decision trees, which do not require scaling either.\n",
        "\n",
        "Meaning that any application of monotonic functions won't really affect our output\n",
        "\n",
        "\n",
        "\n",
        "\n"
      ],
      "metadata": {
        "id": "NjtFDlr5Xhxx"
      }
    },
    {
      "cell_type": "code",
      "source": [
        "#take out the test\n",
        "#now with just the train, we want to use just 70% of the data with validation, and slide it to the right in 6% increments\n",
        "\n",
        "#now we can tune parameters using the results"
      ],
      "metadata": {
        "id": "6brWBqfKQ0oZ"
      },
      "execution_count": 28,
      "outputs": []
    },
    {
      "cell_type": "markdown",
      "source": [
        "### Boosted Tree Model with Direct Approach"
      ],
      "metadata": {
        "id": "yP86isQY4KDs"
      }
    },
    {
      "cell_type": "code",
      "source": [
        "from xgboost import XGBRegressor\n",
        "from sklearn.metrics import mean_squared_error, mean_absolute_error, explained_variance_score, r2_score \n",
        "from sklearn.metrics import mean_poisson_deviance, mean_gamma_deviance, accuracy_score\n",
        "from sklearn.model_selection import GridSearchCV"
      ],
      "metadata": {
        "id": "IAU1damVa6Aw"
      },
      "execution_count": 29,
      "outputs": []
    },
    {
      "cell_type": "code",
      "source": [
        "#use shift -1 on just the label column for each one \n",
        "#so then for the range we train a model on each version and conglomerate the results"
      ],
      "metadata": {
        "id": "2_eeRfKozs1S"
      },
      "execution_count": 30,
      "outputs": []
    },
    {
      "cell_type": "markdown",
      "source": [
        "Hyperparameters:\n",
        "\n",
        "\n",
        "*   Objective Function: We are using mean squared error, and we need the first two derivatives based on that error. \n",
        "  * So the function should return the gradient(first order derivative) and the [hessian matrix](https://en.wikipedia.org/wiki/Hessian_matrix) \n",
        "\n"
      ],
      "metadata": {
        "id": "nH1xo3H0NP2f"
      }
    },
    {
      "cell_type": "code",
      "source": [
        "# #Mean Squared Error objective function\n",
        "# def mse(y_pred, y_val):\n",
        "#     # l(y_val, y_pred) = (y_val-y_pred)**2\n",
        "#     grad = 2*(y_val-y_pred)\n",
        "#     hess = np.repeat(2,y_val.shape[0]) #Describes the local curviture of a function\n",
        "#       #Hessian matrix can be used to discover saddlepoints and local extremum\n",
        "#     return grad, hess\n",
        "\n",
        "def train_model(X_train, y_train):\n",
        "  #Create model\n",
        "  estimator = XGBRegressor(objective = 'reg:squarederror',\n",
        "                          seed = model_seed,\n",
        "                          n_estimators = n_estimators,\n",
        "                          max_depth = max_depth,\n",
        "                          learning_rate = learning_rate,\n",
        "                          min_child_weight = min_child_weight,\n",
        "                          subsample=subsample,\n",
        "                          colsample_bytree=colsample_bytree,\n",
        "                          colsample_bylevel=colsample_bylevel,\n",
        "                          gamma=gamma)\n",
        "\n",
        "  #Train model\n",
        "  estimator.fit(X_train, y_train)\n",
        "\n",
        "  return estimator\n",
        "\n",
        "def create_direct_models(prediction_horizon, X_dataset, y_datasets, split):\n",
        "#run the model and get results  \n",
        "  #initialize list to hold the different models we create\n",
        "  estimator_list = []\n",
        "  X = X_dataset\n",
        "\n",
        "  for i in range(prediction_horizon):\n",
        "    print('Creating estimator for t+{}'.format(i+1))\n",
        "    y = y_datasets[i]\n",
        "    X_train, y_train, X_test, y_test = split_data(X, y, split)\n",
        "\n",
        "    X_train = X_train.to_numpy()\n",
        "    y_train = np.array(y_train)\n",
        "    X_test = X_test.to_numpy()\n",
        "    y_test = np.array(y_test)\n",
        "\n",
        "    estimator = train_model(X_train, y_train)\n",
        "    estimator_list.append(estimator)\n",
        "\n",
        "  return estimator_list\n",
        "\n",
        "def create_datasets(xgb_data, features, prediction_horizon):\n",
        "  values = label_data(timeseries_to_supervised(xgb_data), features)\n",
        "  X_dataset, y_datasets = make_direct_datasets(values, prediction_horizon)\n",
        "  return X_dataset, y_datasets, values\n",
        "\n",
        "def create_estimators(xgb_data, prediction_horizon, split, features):\n",
        "  X_dataset, y_datasets, values = create_datasets(xgb_data, features, prediction_horizon)\n",
        "  estimator_list = create_direct_models(prediction_horizon, X_dataset, y_datasets, split)\n",
        "  return estimator_list, values, X_dataset\n",
        "\n",
        "def get_predictions(estimator_list, values, X_dataset, prediction_horizon):\n",
        "  predictions = []\n",
        "  actuals = values.iloc[-prediction_horizon:, -1]\n",
        "  for i in range(len(estimator_list)):\n",
        "    model = estimator_list[i]\n",
        "    predictions.append(model.predict(pd.DataFrame(X_dataset.iloc[-prediction_horizon, :]).T.to_numpy()))\n",
        "\n",
        "  return predictions, actuals\n"
      ],
      "metadata": {
        "id": "CSGpmf0za6DJ"
      },
      "execution_count": 31,
      "outputs": []
    },
    {
      "cell_type": "code",
      "source": [
        "split = 10 #for this it makes the most sense to me to have this equal to our prediction horizon\n",
        "features = 20 #timesteps of lag features\n",
        "prediction_horizon = split\n",
        "\n",
        "model_seed = 42\n",
        "n_estimators = 300\n",
        "max_depth = 6\n",
        "learning_rate = 0.1\n",
        "min_child_weight = 1         \n",
        "subsample = 0.8           \n",
        "colsample_bytree = 0.8      \n",
        "colsample_bylevel = 1   \n",
        "gamma = 1\n",
        "\n",
        "estimator_list, all_values, X_dataset = create_estimators(xgb_data, prediction_horizon, split, features)\n",
        "predictions, actuals = get_predictions(estimator_list, all_values, X_dataset, prediction_horizon)"
      ],
      "metadata": {
        "id": "59Af5AiCJDmH",
        "colab": {
          "base_uri": "https://localhost:8080/"
        },
        "outputId": "45a12aba-eda4-406a-947f-69e9d6dbe8d3"
      },
      "execution_count": 32,
      "outputs": [
        {
          "output_type": "stream",
          "name": "stdout",
          "text": [
            "Creating estimator for t+1\n",
            "Creating estimator for t+2\n",
            "Creating estimator for t+3\n",
            "Creating estimator for t+4\n",
            "Creating estimator for t+5\n",
            "Creating estimator for t+6\n",
            "Creating estimator for t+7\n",
            "Creating estimator for t+8\n",
            "Creating estimator for t+9\n",
            "Creating estimator for t+10\n"
          ]
        }
      ]
    },
    {
      "cell_type": "code",
      "source": [
        "plt.style.use(\"cyberpunk\")\n",
        "plt.rcParams['figure.figsize'] = (16,8)\n",
        "\n",
        "plt.title('XGB - Bitcoin Price Predictions over 10 timesteps', fontsize = 18,fontweight = 'bold', color = 'white')\n",
        "\n",
        "plt.xlabel('Timesteps', fontsize = 15, color = 'white',fontweight = 'bold')\n",
        "plt.ylabel('Price', fontsize = 15, color = 'white',fontweight = 'bold')\n",
        "\n",
        "plt.plot(predictions)\n",
        "plt.plot(np.array(actuals))\n",
        "plt.legend(['Predictions', 'Actuals'])"
      ],
      "metadata": {
        "colab": {
          "base_uri": "https://localhost:8080/",
          "height": 534
        },
        "id": "TGpIXbkKBSdx",
        "outputId": "211eefb5-ea44-4345-e778-f464b4a3089d"
      },
      "execution_count": 33,
      "outputs": [
        {
          "output_type": "execute_result",
          "data": {
            "text/plain": [
              "<matplotlib.legend.Legend at 0x7fcdebba3ac0>"
            ]
          },
          "metadata": {},
          "execution_count": 33
        },
        {
          "output_type": "display_data",
          "data": {
            "text/plain": [
              "<Figure size 1152x576 with 1 Axes>"
            ],
            "image/png": "[encoded data removed]"
          },
          "metadata": {}
        }
      ]
    },
    {
      "cell_type": "markdown",
      "source": [
        "We purposely included a lot of features that are able to smooth out the data more, and avoid any very volatile movements. As you can see, our predictions seem sensitive to sharp jumps, but do a great job of capturing the general trend of the data"
      ],
      "metadata": {
        "id": "QIbEfmyIIadW"
      }
    },
    {
      "cell_type": "markdown",
      "source": [
        "In comparison to other models, it seems like we are getting the best results with XGBoost!"
      ],
      "metadata": {
        "id": "hPMZtPb5tsDl"
      }
    },
    {
      "cell_type": "code",
      "source": [
        "#Let's reset the index of our predictions to be on the same scale as ther models\n",
        "index = line1.get_xdata()\n",
        "predictions = pd.DataFrame(predictions).set_index(index)\n",
        "xgb_predictions = predictions\n",
        "\n",
        "lstm_predictions = pd.DataFrame(lstm_predictions).set_index(index)"
      ],
      "metadata": {
        "id": "rhHOI0hB0bLj"
      },
      "execution_count": 34,
      "outputs": []
    },
    {
      "cell_type": "code",
      "source": [
        "plt.style.use(\"cyberpunk\")\n",
        "plt.figure(figsize=(20, 12))\n",
        "\n",
        "#Let's just keep the best performers\n",
        "(train1,) = plt.plot(exp_data[-(exp_split * 2):], marker=\"o\", color=\"white\")\n",
        "(actual,) = plt.plot(test_exp_data, marker = 'x', color = 'white')\n",
        "# (line1,) = plt.plot(fcast1, marker=\"o\")\n",
        "(line2,) = plt.plot(fcast2, marker=\"o\")\n",
        "# (line3,) = plt.plot(fcast3, marker=\"o\")\n",
        "(arima,) = plt.plot(arima_predictions, marker=\"o\")\n",
        "(lstm, ) = plt.plot(lstm_predictions, marker = \"o\")\n",
        "(xgb, ) = plt.plot(xgb_predictions, marker = \"o\")\n",
        "\n",
        "plt.legend([train1, actual, line2, arima, lstm, xgb], ['Training', 'Actual Values', 'Exponential Smoothing',  'ARIMA', 'LSTM-Recursive', 'XGBoost-Direct'])\n",
        "\n",
        "mplcyberpunk.make_lines_glow()"
      ],
      "metadata": {
        "colab": {
          "base_uri": "https://localhost:8080/",
          "height": 697
        },
        "id": "0ZP07SEdtrSW",
        "outputId": "fd2881e1-152c-4821-f84d-acf416c2578a"
      },
      "execution_count": 35,
      "outputs": [
        {
          "output_type": "display_data",
          "data": {
            "text/plain": [
              "<Figure size 1440x864 with 1 Axes>"
            ],
            "image/png": "[encoded data removed]"
          },
          "metadata": {}
        }
      ]
    },
    {
      "cell_type": "markdown",
      "source": [
        "Now let's compare all the mean squared errors of our models"
      ],
      "metadata": {
        "id": "SCa6jTO64UCz"
      }
    },
    {
      "cell_type": "code",
      "source": [
        "arima_predictions"
      ],
      "metadata": {
        "colab": {
          "base_uri": "https://localhost:8080/"
        },
        "id": "4LdIeNdO15eq",
        "outputId": "2ecc5caf-a16b-4746-bed1-0a51d18bdbc9"
      },
      "execution_count": 45,
      "outputs": [
        {
          "output_type": "execute_result",
          "data": {
            "text/plain": [
              "2353             NaN\n",
              "2354    16879.705878\n",
              "2355    16879.871226\n",
              "2356    16880.053708\n",
              "2357    16880.224378\n",
              "2358    16880.383969\n",
              "2359    16880.533169\n",
              "2360    16880.672628\n",
              "2361    16880.802953\n",
              "2362    16880.924714\n",
              "2363    16881.038450\n",
              "dtype: float64"
            ]
          },
          "metadata": {},
          "execution_count": 45
        }
      ]
    },
    {
      "cell_type": "code",
      "source": [
        "from sklearn.metrics import mean_squared_error\n",
        "model_names = [fcast1.name, fcast2.name, fcast3.name, 'ARIMA', 'XGBoost-Direct', 'LSTM']\n",
        "model_predictions = [fcast1, fcast2, fcast3, arima_predictions, xgb_predictions, lstm_predictions]\n",
        "\n",
        "for i in range(len(model_names)):\n",
        "  mse = mean_squared_error(test_exp_data, model_predictions[i])\n",
        "  print(model_names[i], '- MSE:', mse)\n"
      ],
      "metadata": {
        "colab": {
          "base_uri": "https://localhost:8080/"
        },
        "id": "kSYRL-fftrU0",
        "outputId": "dade823d-56be-4fa8-a20c-4956e5990c29"
      },
      "execution_count": 47,
      "outputs": [
        {
          "output_type": "stream",
          "name": "stdout",
          "text": [
            "Holt DES - $\\alpha=0.3$ - MSE: 1.8332256633965414\n",
            "Holt DES - $\\alpha=0.8$ - MSE: 1.8934851636135928\n",
            "TES - $\\alpha=0.8889285711753961$ - MSE: 2.961674469451218\n",
            "ARIMA - MSE: 3.4963910563901406\n",
            "XGBoost-Direct - MSE: 1.7249496459960938\n",
            "LSTM - MSE: 1.9715808868408202\n"
          ]
        }
      ]
    },
    {
      "cell_type": "markdown",
      "source": [
        "#### Now let's look at how we performed on the training data\n",
        "\n",
        "*   Because we trained many models we have to look at them individually\n",
        "\n"
      ],
      "metadata": {
        "id": "hsRsqH_gJ8J6"
      }
    },
    {
      "cell_type": "code",
      "source": [
        "#subplots\n",
        "\n",
        "#my guess is that while it seemed to perform pretty well, especially in just capturing the overall trend.\n",
        "  #You can see this section of data happens to be fairly smooth (which we ha)"
      ],
      "metadata": {
        "id": "sR41z25eJ7f7"
      },
      "execution_count": 48,
      "outputs": []
    },
    {
      "cell_type": "markdown",
      "source": [
        "Because the XGBoost model seemed to perform the best out of all the different models, let's see how it performs on a larger time frame\n",
        "\n",
        "*   Build 40 estimators to predict 40 timesteps, or 20 minutes into the future\n",
        "*   Using the same parameters but resetting the model_seed\n",
        "\n"
      ],
      "metadata": {
        "id": "SJACLWmUYq67"
      }
    },
    {
      "cell_type": "code",
      "source": [
        "model_seed = 42\n",
        "n_estimators = 300\n",
        "max_depth = 6\n",
        "learning_rate = 0.1\n",
        "min_child_weight = 1         \n",
        "subsample = 0.8           \n",
        "colsample_bytree = 0.8      \n",
        "colsample_bylevel = 1   \n",
        "gamma = 1\n",
        "\n",
        "split = 40 #for this it makes the most sense to me to have this equal to our prediction horizon\n",
        "features = 20 #timesteps of lag features\n",
        "prediction_horizon = split\n",
        "\n",
        "estimator_list, all_values, X_dataset = create_estimators(xgb_data, prediction_horizon, split, features)\n",
        "predictions, actuals = get_predictions(estimator_list, all_values, X_dataset, prediction_horizon)\n",
        "\n",
        "plt.style.use(\"cyberpunk\")\n",
        "plt.rcParams['figure.figsize'] = (16,8)\n",
        "\n",
        "plt.title('XGB - Bitcoin Price Predictions over 40 timesteps', fontsize = 18,fontweight = 'bold', color = 'white')\n",
        "\n",
        "plt.xlabel('Timesteps', fontsize = 15, color = 'white', fontweight = 'bold')\n",
        "plt.ylabel('Price', fontsize = 15, color = 'white', fontweight = 'bold')\n",
        "\n",
        "plt.plot(predictions)\n",
        "plt.plot(np.array(actuals))\n",
        "plt.legend(['Predictions', 'Actuals'])"
      ],
      "metadata": {
        "colab": {
          "base_uri": "https://localhost:8080/",
          "height": 1000
        },
        "id": "9KdL3k8-QVR-",
        "outputId": "7fc4fd30-d331-407e-a0a6-2ed0ec5e6055"
      },
      "execution_count": 50,
      "outputs": [
        {
          "output_type": "stream",
          "name": "stdout",
          "text": [
            "Creating estimator for t+1\n",
            "Creating estimator for t+2\n",
            "Creating estimator for t+3\n",
            "Creating estimator for t+4\n",
            "Creating estimator for t+5\n",
            "Creating estimator for t+6\n",
            "Creating estimator for t+7\n",
            "Creating estimator for t+8\n",
            "Creating estimator for t+9\n",
            "Creating estimator for t+10\n",
            "Creating estimator for t+11\n",
            "Creating estimator for t+12\n",
            "Creating estimator for t+13\n",
            "Creating estimator for t+14\n",
            "Creating estimator for t+15\n",
            "Creating estimator for t+16\n",
            "Creating estimator for t+17\n",
            "Creating estimator for t+18\n",
            "Creating estimator for t+19\n",
            "Creating estimator for t+20\n",
            "Creating estimator for t+21\n",
            "Creating estimator for t+22\n",
            "Creating estimator for t+23\n",
            "Creating estimator for t+24\n",
            "Creating estimator for t+25\n",
            "Creating estimator for t+26\n",
            "Creating estimator for t+27\n",
            "Creating estimator for t+28\n",
            "Creating estimator for t+29\n",
            "Creating estimator for t+30\n",
            "Creating estimator for t+31\n",
            "Creating estimator for t+32\n",
            "Creating estimator for t+33\n",
            "Creating estimator for t+34\n",
            "Creating estimator for t+35\n",
            "Creating estimator for t+36\n",
            "Creating estimator for t+37\n",
            "Creating estimator for t+38\n",
            "Creating estimator for t+39\n",
            "Creating estimator for t+40\n"
          ]
        },
        {
          "output_type": "execute_result",
          "data": {
            "text/plain": [
              "<matplotlib.legend.Legend at 0x7fce496427c0>"
            ]
          },
          "metadata": {},
          "execution_count": 50
        },
        {
          "output_type": "display_data",
          "data": {
            "text/plain": [
              "<Figure size 1152x576 with 1 Axes>"
            ],
            "image/png": "[encoded data removed]"
          },
          "metadata": {}
        }
      ]
    },
    {
      "cell_type": "code",
      "source": [],
      "metadata": {
        "id": "_DZlbxLM2GSK"
      },
      "execution_count": null,
      "outputs": []
    }
  ]
}